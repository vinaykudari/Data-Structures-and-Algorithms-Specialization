{
 "cells": [
  {
   "cell_type": "markdown",
   "metadata": {},
   "source": [
    "# LinkedList"
   ]
  },
  {
   "cell_type": "code",
   "execution_count": 139,
   "metadata": {},
   "outputs": [],
   "source": [
    "class Node:\n",
    "    def __init__(self, val):\n",
    "        self.val = val\n",
    "        self.next = None\n",
    "        \n",
    "class LinkedList:\n",
    "    def __init__(self):\n",
    "        self.head = None\n",
    "        self.tail = None\n",
    "        \n",
    "    def insert(self, data):\n",
    "        if self.head is None:\n",
    "            self.head = Node(data)\n",
    "            self.tail = self.head\n",
    "        else:\n",
    "            self.tail.next = Node(data)\n",
    "            self.tail = self.tail.next\n",
    "            \n",
    "    def insert_at(self, pos, data):\n",
    "        node = self.head\n",
    "        if pos == 0:\n",
    "            self.head = Node(data)\n",
    "            self.head.next = node\n",
    "        else:\n",
    "            while pos-1>0:\n",
    "                node = node.next\n",
    "                pos = pos-1\n",
    "            next_node = node.next\n",
    "            node.next = Node(data)\n",
    "            node.next.next = next_node\n",
    "        \n",
    "    def pop_front(self):\n",
    "        if self.head is None:\n",
    "            print('LinkedList is Empty')\n",
    "            return\n",
    "        node = self.head\n",
    "        self.head = self.head.next\n",
    "        \n",
    "    def traverse(self):\n",
    "        node = self.head\n",
    "        while node != None:\n",
    "            print(node.val)\n",
    "            node = node.next"
   ]
  },
  {
   "cell_type": "code",
   "execution_count": 140,
   "metadata": {},
   "outputs": [
    {
     "name": "stdout",
     "output_type": "stream",
     "text": [
      "1\n",
      "2\n",
      "3\n",
      "10\n",
      "4\n",
      "5\n"
     ]
    }
   ],
   "source": [
    "l1 = LinkedList()\n",
    "\n",
    "l1.insert(1)\n",
    "l1.insert(2)\n",
    "l1.insert(3)\n",
    "l1.insert(4)\n",
    "\n",
    "l1.insert_at(3, data=10)\n",
    "\n",
    "l1.insert(5)\n",
    "\n",
    "l1.traverse()"
   ]
  },
  {
   "cell_type": "code",
   "execution_count": 149,
   "metadata": {},
   "outputs": [
    {
     "name": "stdout",
     "output_type": "stream",
     "text": [
      "LinkedList is Empty\n"
     ]
    }
   ],
   "source": [
    "l1.pop_front()\n",
    "l1.traverse()"
   ]
  },
  {
   "cell_type": "markdown",
   "metadata": {},
   "source": [
    "# Stack"
   ]
  },
  {
   "cell_type": "code",
   "execution_count": 267,
   "metadata": {},
   "outputs": [],
   "source": [
    "class Stack:\n",
    "    def __init__(self, size):\n",
    "        self.top = -1\n",
    "        self.arr = [None]*size\n",
    "        \n",
    "    def push(self, data):\n",
    "        if self.top == len(self.arr)-1:\n",
    "            print('Stack is full')\n",
    "            return\n",
    "        else:\n",
    "            self.top = self.top + 1\n",
    "            self.arr[self.top] = data\n",
    "#         print(self.arr)\n",
    "            \n",
    "    def pop(self):\n",
    "        if self.top == -1:\n",
    "            print(\"Stack is empty\")\n",
    "        else:\n",
    "            val = self.arr[self.top]\n",
    "            self.arr[self.top] = None\n",
    "            self.top = self.top - 1\n",
    "            return val\n",
    "            \n",
    "    def topp(self):\n",
    "        return self.arr[self.top]\n",
    "        "
   ]
  },
  {
   "cell_type": "code",
   "execution_count": 237,
   "metadata": {},
   "outputs": [],
   "source": [
    "s1 = Stack(10)"
   ]
  },
  {
   "cell_type": "code",
   "execution_count": 238,
   "metadata": {},
   "outputs": [
    {
     "name": "stdout",
     "output_type": "stream",
     "text": [
      "[1, None, None, None, None, None, None, None, None, None]\n",
      "[1, 2, None, None, None, None, None, None, None, None]\n",
      "[1, 2, 3, None, None, None, None, None, None, None]\n"
     ]
    }
   ],
   "source": [
    "s1.push(1)\n",
    "s1.push(2)\n",
    "s1.push(3)"
   ]
  },
  {
   "cell_type": "code",
   "execution_count": 242,
   "metadata": {},
   "outputs": [
    {
     "name": "stdout",
     "output_type": "stream",
     "text": [
      "Stack is empty\n"
     ]
    }
   ],
   "source": [
    "s1.pop()"
   ]
  },
  {
   "cell_type": "markdown",
   "metadata": {},
   "source": [
    "# Queue"
   ]
  },
  {
   "cell_type": "code",
   "execution_count": 253,
   "metadata": {},
   "outputs": [],
   "source": [
    "class Queue:\n",
    "    def __init__(self):\n",
    "        self.head = None\n",
    "        self.tail = None\n",
    "        \n",
    "    def enqueue(self, data):\n",
    "        if self.head == None:\n",
    "            self.head = Node(data)\n",
    "            self.tail = self.head\n",
    "        else:\n",
    "            node = self.tail\n",
    "            self.tail = Node(data)\n",
    "            node.next = self.tail\n",
    "            \n",
    "    def dequeue(self):\n",
    "        if self.head == None:\n",
    "            print('Queue is empty')\n",
    "            return\n",
    "        else:\n",
    "            val = self.head.val\n",
    "            self.head = self.head.next\n",
    "            return val"
   ]
  },
  {
   "cell_type": "code",
   "execution_count": 254,
   "metadata": {},
   "outputs": [],
   "source": [
    "q1 = Queue()\n",
    "\n",
    "q1.enqueue(1)\n",
    "q1.enqueue(2)"
   ]
  },
  {
   "cell_type": "code",
   "execution_count": 258,
   "metadata": {},
   "outputs": [
    {
     "name": "stdout",
     "output_type": "stream",
     "text": [
      "Queue is empty\n"
     ]
    }
   ],
   "source": [
    "q1.dequeue()"
   ]
  },
  {
   "cell_type": "code",
   "execution_count": 309,
   "metadata": {},
   "outputs": [],
   "source": [
    "def are_matching(left, right):\n",
    "    return (left + right) in [\"()\", \"[]\", \"{}\"]\n",
    "\n",
    "\n",
    "def find_mismatch(text):\n",
    "    s1 = Stack(len(text))\n",
    "    for i, next in enumerate(text):\n",
    "        if next in \"([{\":\n",
    "            s1.push({'value': next, 'index': i + 1})\n",
    "\n",
    "        if next in \")]}\":\n",
    "            if s1.top == -1:\n",
    "                return i + 1\n",
    "\n",
    "            left = s1.pop().get('value')\n",
    "            right = next\n",
    "\n",
    "            if not are_matching(left, right):\n",
    "                return i + 1\n",
    "\n",
    "    if s1.top == -1:\n",
    "        return 'Success'\n",
    "    else:\n",
    "        return s1.arr[s1.top].get('index')"
   ]
  },
  {
   "cell_type": "code",
   "execution_count": 310,
   "metadata": {},
   "outputs": [
    {
     "data": {
      "text/plain": [
       "1"
      ]
     },
     "execution_count": 310,
     "metadata": {},
     "output_type": "execute_result"
    }
   ],
   "source": [
    "find_mismatch('}{}{')"
   ]
  },
  {
   "cell_type": "code",
   "execution_count": null,
   "metadata": {},
   "outputs": [],
   "source": []
  }
 ],
 "metadata": {
  "kernelspec": {
   "display_name": "Python 3",
   "language": "python",
   "name": "python3"
  },
  "language_info": {
   "codemirror_mode": {
    "name": "ipython",
    "version": 3
   },
   "file_extension": ".py",
   "mimetype": "text/x-python",
   "name": "python",
   "nbconvert_exporter": "python",
   "pygments_lexer": "ipython3",
   "version": "3.7.4"
  }
 },
 "nbformat": 4,
 "nbformat_minor": 2
}
