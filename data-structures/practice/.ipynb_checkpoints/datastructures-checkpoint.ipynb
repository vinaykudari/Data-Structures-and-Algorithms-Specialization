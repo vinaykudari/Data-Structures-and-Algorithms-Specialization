{
 "cells": [
  {
   "cell_type": "markdown",
   "metadata": {},
   "source": [
    "# LinkedList"
   ]
  },
  {
   "cell_type": "code",
   "execution_count": 474,
   "metadata": {},
   "outputs": [],
   "source": [
    "class Node:\n",
    "    def __init__(self, val):\n",
    "        self.val = val\n",
    "        self.next = None\n",
    "        \n",
    "class LinkedList:\n",
    "    def __init__(self):\n",
    "        self.head = None\n",
    "        self.tail = None\n",
    "        \n",
    "    def insert(self, data):\n",
    "        if self.head is None:\n",
    "            self.head = Node(data)\n",
    "            self.tail = self.head\n",
    "        else:\n",
    "            self.tail.next = Node(data)\n",
    "            self.tail = self.tail.next\n",
    "            \n",
    "    \n",
    "    def insert_at_head(self, data):\n",
    "        if self.head is None:\n",
    "            self.head = Node(data)\n",
    "            self.tail = self.head\n",
    "        else:\n",
    "            node = self.head\n",
    "            self.head = Node(data)\n",
    "            self.head.next = node\n",
    "            \n",
    "    def insert_at(self, pos, data):\n",
    "        node = self.head\n",
    "        if pos == 0:\n",
    "            self.head = Node(data)\n",
    "            self.head.next = node\n",
    "        else:\n",
    "            while pos-1>0:\n",
    "                node = node.next\n",
    "                pos = pos-1\n",
    "            next_node = node.next\n",
    "            node.next = Node(data)\n",
    "            node.next.next = next_node\n",
    "        \n",
    "    def pop_front(self):\n",
    "        if self.head is None:\n",
    "            print('LinkedList is Empty')\n",
    "            return\n",
    "        node = self.head\n",
    "        self.head = self.head.next\n",
    "        \n",
    "    def traverse(self):\n",
    "        node = self.head\n",
    "        lis = []\n",
    "        while node != None:\n",
    "            lis.append(node.val)\n",
    "            node = node.next\n",
    "        return lis\n",
    "    \n",
    "    def delete(self, data):\n",
    "        node = self.head\n",
    "        prev_node = self.head\n",
    "        if not self.find(data):\n",
    "            return\n",
    "        elif self.head.val == data:\n",
    "            if self.head.next:\n",
    "                self.head = self.head.next\n",
    "            else:\n",
    "                self.head = None\n",
    "        else:\n",
    "            while node:\n",
    "                if node.val == data:\n",
    "                    prev_node.next = node.next\n",
    "                    break\n",
    "                prev_node = node\n",
    "                node = node.next\n",
    "            \n",
    "    def find(self, data):\n",
    "        node = self.head\n",
    "        while node:\n",
    "            if node.val == data:\n",
    "                return True\n",
    "            node = node.next\n",
    "        return False"
   ]
  },
  {
   "cell_type": "code",
   "execution_count": 475,
   "metadata": {},
   "outputs": [
    {
     "data": {
      "text/plain": [
       "[1]"
      ]
     },
     "execution_count": 475,
     "metadata": {},
     "output_type": "execute_result"
    }
   ],
   "source": [
    "l1 = LinkedList()\n",
    "\n",
    "l1.insert_at_head(1)\n",
    "l1.traverse()"
   ]
  },
  {
   "cell_type": "code",
   "execution_count": 149,
   "metadata": {},
   "outputs": [
    {
     "data": {
      "text/plain": [
       "False"
      ]
     },
     "execution_count": 149,
     "metadata": {},
     "output_type": "execute_result"
    }
   ],
   "source": [
    "l1.find(10)"
   ]
  },
  {
   "cell_type": "code",
   "execution_count": 481,
   "metadata": {},
   "outputs": [],
   "source": [
    "l1.delete(5)"
   ]
  },
  {
   "cell_type": "code",
   "execution_count": 477,
   "metadata": {},
   "outputs": [],
   "source": [
    "l1.insert_at_head(1)\n",
    "l1.insert_at_head(2)\n",
    "l1.insert_at_head(3)\n",
    "l1.insert_at_head(4)\n",
    "l1.insert_at_head(5)"
   ]
  },
  {
   "cell_type": "code",
   "execution_count": 482,
   "metadata": {},
   "outputs": [
    {
     "data": {
      "text/plain": [
       "[4, 3, 2]"
      ]
     },
     "execution_count": 482,
     "metadata": {},
     "output_type": "execute_result"
    }
   ],
   "source": [
    "l1.traverse()"
   ]
  },
  {
   "cell_type": "code",
   "execution_count": 149,
   "metadata": {},
   "outputs": [
    {
     "name": "stdout",
     "output_type": "stream",
     "text": [
      "LinkedList is Empty\n"
     ]
    }
   ],
   "source": [
    "l1.pop_front()\n",
    "l1.traverse()"
   ]
  },
  {
   "cell_type": "markdown",
   "metadata": {},
   "source": [
    "# Stack"
   ]
  },
  {
   "cell_type": "code",
   "execution_count": 399,
   "metadata": {},
   "outputs": [],
   "source": [
    "class Stack:\n",
    "    def __init__(self, size):\n",
    "        self.top = -1\n",
    "        self.arr = [None]*size\n",
    "        self.max = 0\n",
    "        \n",
    "    def push(self, data):\n",
    "        if self.top == len(self.arr)-1:\n",
    "            print('Stack is full')\n",
    "            return\n",
    "        else:\n",
    "            self.top = self.top + 1\n",
    "            self.arr[self.top] = data\n",
    "        print(self.arr)\n",
    "            \n",
    "    def pop(self):\n",
    "        if self.top == -1:\n",
    "            print(\"Stack is empty\")\n",
    "        else:\n",
    "            val = self.arr[self.top]\n",
    "            self.arr[self.top] = None\n",
    "            self.top = self.top - 1\n",
    "            return val\n",
    "            \n",
    "    def topp(self):\n",
    "        return self.arr[self.top]\n",
    "    \n",
    "    def maxx(self):\n",
    "        return self.max\n",
    "        "
   ]
  },
  {
   "cell_type": "code",
   "execution_count": 395,
   "metadata": {},
   "outputs": [
    {
     "name": "stdout",
     "output_type": "stream",
     "text": [
      "[2, None, None, None, None, None, None, None, None, None]\n",
      "[2, 3, None, None, None, None, None, None, None, None]\n",
      "[2, 3, 9, None, None, None, None, None, None, None]\n",
      "[2, 3, 9, 7, None, None, None, None, None, None]\n",
      "[2, 3, 9, 7, 2, None, None, None, None, None]\n"
     ]
    }
   ],
   "source": [
    "s1 = Stack(10)\n",
    "\n",
    "s1.push(2)\n",
    "s1.push(3)\n",
    "s1.push(9)\n",
    "s1.push(7)\n",
    "s1.push(2)"
   ]
  },
  {
   "cell_type": "code",
   "execution_count": 398,
   "metadata": {},
   "outputs": [
    {
     "data": {
      "text/plain": [
       "[2, 3, 9, 7, None, None, None, None, None, None]"
      ]
     },
     "execution_count": 398,
     "metadata": {},
     "output_type": "execute_result"
    }
   ],
   "source": [
    "s1.arr"
   ]
  },
  {
   "cell_type": "code",
   "execution_count": 397,
   "metadata": {},
   "outputs": [
    {
     "data": {
      "text/plain": [
       "2"
      ]
     },
     "execution_count": 397,
     "metadata": {},
     "output_type": "execute_result"
    }
   ],
   "source": [
    "s1.pop()"
   ]
  },
  {
   "cell_type": "code",
   "execution_count": 394,
   "metadata": {},
   "outputs": [
    {
     "data": {
      "text/plain": [
       "9"
      ]
     },
     "execution_count": 394,
     "metadata": {},
     "output_type": "execute_result"
    }
   ],
   "source": [
    "s1.maxx()"
   ]
  },
  {
   "cell_type": "markdown",
   "metadata": {},
   "source": [
    "# Queue"
   ]
  },
  {
   "cell_type": "code",
   "execution_count": 362,
   "metadata": {},
   "outputs": [],
   "source": [
    "class Queue:\n",
    "    def __init__(self):\n",
    "        self.head = None\n",
    "        self.tail = None\n",
    "        self.len = 0\n",
    "        \n",
    "    def enqueue(self, data):\n",
    "        if self.head == None:\n",
    "            self.head = Node(data)\n",
    "            self.tail = self.head\n",
    "        else:\n",
    "            node = self.tail\n",
    "            self.tail = Node(data)\n",
    "            node.next = self.tail\n",
    "        self.len += 1\n",
    "            \n",
    "    def dequeue(self):\n",
    "        if self.head == None:\n",
    "            print('Queue is empty')\n",
    "            return\n",
    "        else:\n",
    "            val = self.head.val\n",
    "            if self.len == 1:\n",
    "                self.head = None\n",
    "                self.tail = None\n",
    "            else:\n",
    "                self.head = self.head.next\n",
    "            self.len -= 1\n",
    "            return val\n",
    "    \n",
    "    def last(self):\n",
    "        return self.tail.val\n",
    "    \n",
    "    def first(self):\n",
    "        return self.head.val\n",
    "    \n",
    "    def isEmpty(self):\n",
    "        if self.head == None:\n",
    "            return True\n",
    "        else:\n",
    "            return False\n",
    "        \n",
    "    def get_vals(self):\n",
    "        node = self.head\n",
    "        vals = []\n",
    "        while node != self.tail:\n",
    "            vals.append(node.val)\n",
    "            node = node.next\n",
    "        vals.append(node.val)\n",
    "        return vals"
   ]
  },
  {
   "cell_type": "code",
   "execution_count": 363,
   "metadata": {},
   "outputs": [],
   "source": [
    "q1 = Queue()\n",
    "\n",
    "q1.enqueue(1)\n",
    "q1.enqueue(2)\n",
    "q1.enqueue(3)\n",
    "q1.enqueue(4)"
   ]
  },
  {
   "cell_type": "code",
   "execution_count": 364,
   "metadata": {},
   "outputs": [
    {
     "data": {
      "text/plain": [
       "[1, 2, 3, 4]"
      ]
     },
     "execution_count": 364,
     "metadata": {},
     "output_type": "execute_result"
    }
   ],
   "source": [
    "q1.get_vals()"
   ]
  },
  {
   "cell_type": "code",
   "execution_count": 350,
   "metadata": {},
   "outputs": [],
   "source": [
    "def are_matching(left, right):\n",
    "    return (left + right) in [\"()\", \"[]\", \"{}\"]\n",
    "\n",
    "\n",
    "def find_mismatch(text):\n",
    "    s1 = Stack(len(text))\n",
    "    for i, next in enumerate(text):\n",
    "        if next in \"([{\":\n",
    "            s1.push({'value': next, 'index': i + 1})\n",
    "\n",
    "        if next in \")]}\":\n",
    "            if s1.top == -1:\n",
    "                return i + 1\n",
    "\n",
    "            left = s1.pop().get('value')\n",
    "            right = next\n",
    "\n",
    "            if not are_matching(left, right):\n",
    "                return i + 1\n",
    "\n",
    "    if s1.top == -1:\n",
    "        return 'Success'\n",
    "    else:\n",
    "        return s1.arr[s1.top].get('index')"
   ]
  },
  {
   "cell_type": "code",
   "execution_count": 310,
   "metadata": {},
   "outputs": [
    {
     "data": {
      "text/plain": [
       "1"
      ]
     },
     "execution_count": 310,
     "metadata": {},
     "output_type": "execute_result"
    }
   ],
   "source": [
    "find_mismatch('}{}{')"
   ]
  },
  {
   "cell_type": "markdown",
   "metadata": {},
   "source": [
    "# Tree"
   ]
  },
  {
   "cell_type": "code",
   "execution_count": 127,
   "metadata": {},
   "outputs": [
    {
     "name": "stdout",
     "output_type": "stream",
     "text": [
      "sd\n"
     ]
    }
   ],
   "source": [
    "l = []\n",
    "if not l:\n",
    "    print(\"sd\")"
   ]
  },
  {
   "cell_type": "code",
   "execution_count": 150,
   "metadata": {},
   "outputs": [],
   "source": [
    "class Node:\n",
    "    def __str__(self):\n",
    "        return str(self.val)\n",
    "    \n",
    "    def __init__(self, val):\n",
    "        self.val = val\n",
    "        self.children = []\n",
    "        \n",
    "    def add_child(self, value):\n",
    "        self.children.append(value)\n",
    "        \n",
    "class Tree:\n",
    "    def __init__(self):\n",
    "        self.root = None\n",
    "        self.node_list = []\n",
    "            \n",
    "    def populate_tree(self):\n",
    "        for index, parent_node in enumerate(self.node_data):\n",
    "            if parent_node == -1:\n",
    "                self.root = self.node_list[index]\n",
    "                print(f'Root = {self.root}')\n",
    "            else:\n",
    "                self.node_list[parent_node].add_child(self.node_list[index])\n",
    "                print(f\"Adding child {index} to parent {parent_node}\")\n",
    "                \n",
    "    def load_data(self, node_data):\n",
    "        self.node_data = node_data\n",
    "        for i in range(len(node_data)):\n",
    "            self.node_list.append(Node(i))\n",
    "        \n",
    "        self.populate_tree()\n",
    "        \n",
    "    def get_depth(self, node):\n",
    "        if not node.children:\n",
    "            return 0\n",
    "        \n",
    "        return 1 + max([self.get_depth(children) for children in node.children])\n",
    "    \n",
    "    def get_height(self):\n",
    "        return self.get_depth(self.root) + 1\n",
    "            \n",
    "            \n",
    "    "
   ]
  },
  {
   "cell_type": "code",
   "execution_count": 151,
   "metadata": {},
   "outputs": [
    {
     "name": "stdout",
     "output_type": "stream",
     "text": [
      "Adding child 0 to parent 4\n",
      "Root = 1\n",
      "Adding child 2 to parent 4\n",
      "Adding child 3 to parent 1\n",
      "Adding child 4 to parent 1\n"
     ]
    }
   ],
   "source": [
    "t1 = Tree()\n",
    "t1.load_data([4, -1, 4, 1, 1])"
   ]
  },
  {
   "cell_type": "code",
   "execution_count": 152,
   "metadata": {},
   "outputs": [
    {
     "data": {
      "text/plain": [
       "3"
      ]
     },
     "execution_count": 152,
     "metadata": {},
     "output_type": "execute_result"
    }
   ],
   "source": [
    "t1.get_height()"
   ]
  },
  {
   "cell_type": "code",
   "execution_count": 370,
   "metadata": {},
   "outputs": [],
   "source": [
    "from collections import namedtuple\n",
    "import time\n",
    "\n",
    "Request = namedtuple(\"Request\", [\"arrived_at\", \"time_to_process\"])\n",
    "Response = namedtuple(\"Response\", [\"was_dropped\", \"started_at\"])\n",
    "\n",
    "\n",
    "class Buffer:\n",
    "    def __init__(self, size):\n",
    "        self.size = size\n",
    "        self.finish_time = Queue()\n",
    "        self.buffer_time = Queue()\n",
    "\n",
    "    def process(self, request):\n",
    "        print(\"\\n\")\n",
    "        flag = True\n",
    "        if self.finish_time.isEmpty():\n",
    "            self.finish_time.enqueue(request.time_to_process)\n",
    "            self.buffer_time.enqueue(request.time_to_process)\n",
    "            print(f'First request processed')\n",
    "            return Response(False, request.arrived_at)\n",
    "        print(f'arrival_time = {request.arrived_at}, finish_times = {self.finish_time.get_vals()}, buffer_times = {self.buffer_time.get_vals()}')\n",
    "        print(f'checking if arrival time {request.arrived_at} >= last finish time {self.finish_time.last()}')\n",
    "        if request.arrived_at >= self.finish_time.last():\n",
    "            while flag:\n",
    "                flag = self.finish_time.dequeue()\n",
    "                print(f'{flag} dequeued')\n",
    "            self.finish_time.enqueue(request.arrived_at + request.time_to_process)\n",
    "            return Response(False, request.arrived_at)\n",
    "        else:\n",
    "            if request.arrived_at >= self.buffer_time.first():\n",
    "                ft = self.finish_time.dequeue()\n",
    "                bt = self.buffer_time.dequeue()\n",
    "                print(f'dequeuing finish_time {ft} because its buffer time finished')\n",
    "            print(f'arrived when cpu is busy, hence adding to buffer')\n",
    "            if self.finish_time.len == self.size:\n",
    "                print('buffer is full, the request cannot be processed, hence dropped')\n",
    "                return Response(True, -1)\n",
    "            start_time = self.finish_time.last()\n",
    "            self.buffer_time.enqueue(self.finish_time.last() - request.arrived_at + request.time_to_process)\n",
    "            self.finish_time.enqueue(self.finish_time.last() + request.time_to_process)\n",
    "            return Response(False, start_time)\n",
    "        \n",
    "def process_requests(requests, buffer):\n",
    "    responses = []\n",
    "    if len(requests) == 0:\n",
    "        return\n",
    "    for request in requests:\n",
    "        responses.append(buffer.process(request))\n",
    "    return responses"
   ]
  },
  {
   "cell_type": "code",
   "execution_count": 371,
   "metadata": {},
   "outputs": [
    {
     "name": "stdout",
     "output_type": "stream",
     "text": [
      "\n",
      "\n",
      "First request processed\n",
      "\n",
      "\n",
      "arrival_time = 1, finish_times = [2], buffer_times = [2]\n",
      "checking if arrival time 1 >= last finish time 2\n",
      "arrived when cpu is busy, hence adding to buffer\n",
      "\n",
      "\n",
      "arrival_time = 2, finish_times = [2, 4], buffer_times = [2, 3]\n",
      "checking if arrival time 2 >= last finish time 4\n",
      "dequeuing finish_time 2 because its buffer time finished\n",
      "arrived when cpu is busy, hence adding to buffer\n",
      "\n",
      "\n",
      "arrival_time = 3, finish_times = [4, 6], buffer_times = [3, 4]\n",
      "checking if arrival time 3 >= last finish time 6\n",
      "dequeuing finish_time 4 because its buffer time finished\n",
      "arrived when cpu is busy, hence adding to buffer\n",
      "\n",
      "\n",
      "arrival_time = 4, finish_times = [6, 8], buffer_times = [4, 5]\n",
      "checking if arrival time 4 >= last finish time 8\n",
      "dequeuing finish_time 6 because its buffer time finished\n",
      "arrived when cpu is busy, hence adding to buffer\n",
      "\n",
      "\n",
      "arrival_time = 5, finish_times = [8, 10], buffer_times = [5, 6]\n",
      "checking if arrival time 5 >= last finish time 10\n",
      "dequeuing finish_time 8 because its buffer time finished\n",
      "arrived when cpu is busy, hence adding to buffer\n",
      "\n",
      "\n",
      "0\n",
      "2\n",
      "4\n",
      "6\n",
      "8\n",
      "10\n"
     ]
    }
   ],
   "source": [
    "requests = []\n",
    "buffer_size = 3\n",
    "ip_tuples = [(0, 2), (1, 2), (2, 2), (3, 2), (4, 2), (5, 2)]\n",
    "\n",
    "for tup in ip_tuples:\n",
    "    requests.append(Request(tup[0], tup[1]))\n",
    "\n",
    "buffer = Buffer(buffer_size)\n",
    "responses = process_requests(requests, buffer)\n",
    "\n",
    "print(\"\\n\")\n",
    "for response in responses:\n",
    "    print(response.started_at if not response.was_dropped else -1)"
   ]
  },
  {
   "cell_type": "markdown",
   "metadata": {},
   "source": [
    "# Auxiliary Stack"
   ]
  },
  {
   "cell_type": "code",
   "execution_count": 427,
   "metadata": {},
   "outputs": [],
   "source": [
    "class Stack:\n",
    "    def __init__(self, size):\n",
    "        self.top = -1\n",
    "        self.arr = [None]*size\n",
    "        self.max = 0\n",
    "        \n",
    "        self.aux = []\n",
    "        \n",
    "    def push(self, data):\n",
    "        if self.top == len(self.arr)-1:\n",
    "            return\n",
    "        else:\n",
    "            self.top = self.top + 1\n",
    "            self.arr[self.top] = data\n",
    "        if data > self.max:\n",
    "            self.max = data\n",
    "            \n",
    "    def pop(self):\n",
    "        if self.top == -1:\n",
    "            return\n",
    "        else:\n",
    "            val = self.arr[self.top]\n",
    "            self.arr[self.top] = None\n",
    "            self.top = self.top - 1\n",
    "            return val\n",
    "\n",
    "    def Max(self):\n",
    "        return self.max"
   ]
  },
  {
   "cell_type": "code",
   "execution_count": 428,
   "metadata": {},
   "outputs": [
    {
     "data": {
      "text/plain": [
       "9"
      ]
     },
     "execution_count": 428,
     "metadata": {},
     "output_type": "execute_result"
    }
   ],
   "source": [
    "s1 = Stack(10)\n",
    "\n",
    "s1.push(2)\n",
    "s1.push(3)\n",
    "s1.push(9)\n",
    "s1.push(7)\n",
    "s1.push(2)\n",
    "\n",
    "s1.Max()"
   ]
  },
  {
   "cell_type": "markdown",
   "metadata": {},
   "source": [
    "# Priority Queue (Heap)"
   ]
  },
  {
   "cell_type": "code",
   "execution_count": 504,
   "metadata": {},
   "outputs": [],
   "source": [
    "class Heap:\n",
    "    def __init__(self, max_size):\n",
    "        self.arr = [None] * max_size\n",
    "        self.size = 0\n",
    "        \n",
    "    def parent(self, i):\n",
    "        return (i-1)//2\n",
    "    \n",
    "    def left_child(self, i):\n",
    "        return 2*i + 1\n",
    "    \n",
    "    def right_child(self, i):\n",
    "        return 2*i + 2\n",
    "    \n",
    "    def get_max(self):\n",
    "        return self.arr[0]\n",
    "    \n",
    "    def shift_up(self, i):\n",
    "        parent_index = self.parent(i)\n",
    "        print(f'parent index = {parent_index}; parent_value = {self.arr[parent_index]}')\n",
    "        while i > 0 and self.arr[self.parent(i)] < self.arr[i]:\n",
    "            print(f'Swapping arr[{parent_index}], arr[{i}]')\n",
    "            self.arr[self.parent(i)], self.arr[i] = self.arr[i], self.arr[self.parent(i)]\n",
    "            i = self.parent(i)\n",
    "            \n",
    "    def shift_down(self, i):\n",
    "        max_index = i\n",
    "        print(f'Max Index = {max_index}; Array = {self.arr}')\n",
    "        l = self.left_child(i)\n",
    "        if l <= self.size and self.arr[l] > self.arr[max_index]:\n",
    "            max_index = l\n",
    "        r = self.right_child(i)\n",
    "        if r <= self.size and self.arr[r] > self.arr[max_index]:\n",
    "            max_index = r\n",
    "        if i != max_index:\n",
    "            self.arr[i], self.arr[max_index] = self.arr[max_index], self.arr[i]\n",
    "            self.shift_down(max_index)\n",
    "            \n",
    "    def insert(self, data):\n",
    "        if self.size >= len(self.arr):\n",
    "            print(\"Heap is full\")\n",
    "            return\n",
    "        print(f'inserting data at {self.size}')\n",
    "        self.arr[self.size] = data\n",
    "        self.shift_up(self.size)\n",
    "        self.size += 1\n",
    "        print(f'Array = {self.arr}')\n",
    "        \n",
    "    def extract_max(self):\n",
    "        if self.size < 0:\n",
    "            return\n",
    "        max_val = self.arr[0]\n",
    "        self.arr[0] = self.arr[self.size]\n",
    "        self.size -= 1\n",
    "        self.shift_down(0)\n",
    "        return max_val\n",
    "    \n",
    "    def remove_element_at(self, i):\n",
    "        self.arr[i] = float('inf')\n",
    "        self.shift_up(i)\n",
    "        self.extract_max()"
   ]
  },
  {
   "cell_type": "code",
   "execution_count": 573,
   "metadata": {},
   "outputs": [],
   "source": [
    "h1 = Heap(5)"
   ]
  },
  {
   "cell_type": "code",
   "execution_count": 574,
   "metadata": {},
   "outputs": [],
   "source": [
    "h1.arr = [1, 3, 4, 10, 20]\n",
    "h1.size = 4"
   ]
  },
  {
   "cell_type": "code",
   "execution_count": 576,
   "metadata": {},
   "outputs": [
    {
     "name": "stdout",
     "output_type": "stream",
     "text": [
      "Max Index = 6; Array = [1, 3, 4, 10, 20]\n"
     ]
    }
   ],
   "source": [
    "h1.shift_down(6)"
   ]
  },
  {
   "cell_type": "code",
   "execution_count": 494,
   "metadata": {},
   "outputs": [
    {
     "name": "stdout",
     "output_type": "stream",
     "text": [
      "parent index = 1; parent_value = 3\n",
      "Swapping arr[1], arr[4]\n",
      "Swapping arr[1], arr[1]\n"
     ]
    }
   ],
   "source": [
    "h1.shift_up(4)"
   ]
  },
  {
   "cell_type": "code",
   "execution_count": 495,
   "metadata": {},
   "outputs": [
    {
     "name": "stdout",
     "output_type": "stream",
     "text": [
      "parent index = 1; parent_value = 2\n",
      "Swapping arr[1], arr[3]\n"
     ]
    }
   ],
   "source": [
    "h1.shift_up(3)"
   ]
  },
  {
   "cell_type": "code",
   "execution_count": 515,
   "metadata": {},
   "outputs": [
    {
     "data": {
      "text/plain": [
       "[6, 3, 4, 10, 20]"
      ]
     },
     "execution_count": 515,
     "metadata": {},
     "output_type": "execute_result"
    }
   ],
   "source": [
    "h1.arr"
   ]
  },
  {
   "cell_type": "code",
   "execution_count": 519,
   "metadata": {},
   "outputs": [],
   "source": [
    "h2 = Heap(5)"
   ]
  },
  {
   "cell_type": "code",
   "execution_count": 520,
   "metadata": {},
   "outputs": [
    {
     "name": "stdout",
     "output_type": "stream",
     "text": [
      "inserting data at 0\n",
      "parent index = -1; parent_value = None\n",
      "Array = [10, None, None, None, None]\n"
     ]
    }
   ],
   "source": [
    "h2.insert(10)"
   ]
  },
  {
   "cell_type": "code",
   "execution_count": 521,
   "metadata": {},
   "outputs": [
    {
     "name": "stdout",
     "output_type": "stream",
     "text": [
      "inserting data at 1\n",
      "parent index = 0; parent_value = 10\n",
      "Array = [10, 1, None, None, None]\n"
     ]
    }
   ],
   "source": [
    "h2.insert(1)"
   ]
  },
  {
   "cell_type": "code",
   "execution_count": 522,
   "metadata": {},
   "outputs": [
    {
     "name": "stdout",
     "output_type": "stream",
     "text": [
      "inserting data at 2\n",
      "parent index = 0; parent_value = 10\n",
      "Swapping arr[0], arr[2]\n",
      "Array = [11, 1, 10, None, None]\n"
     ]
    }
   ],
   "source": [
    "h2.insert(11)"
   ]
  },
  {
   "cell_type": "code",
   "execution_count": 523,
   "metadata": {},
   "outputs": [
    {
     "name": "stdout",
     "output_type": "stream",
     "text": [
      "inserting data at 3\n",
      "parent index = 1; parent_value = 1\n",
      "Swapping arr[1], arr[3]\n",
      "Array = [11, 10, 10, 1, None]\n"
     ]
    }
   ],
   "source": [
    "h2.insert(10)"
   ]
  },
  {
   "cell_type": "code",
   "execution_count": 525,
   "metadata": {},
   "outputs": [
    {
     "name": "stdout",
     "output_type": "stream",
     "text": [
      "Heap is full\n"
     ]
    }
   ],
   "source": [
    "h2.insert(0)"
   ]
  },
  {
   "cell_type": "code",
   "execution_count": 999,
   "metadata": {},
   "outputs": [],
   "source": [
    "from collections import namedtuple \n",
    "\n",
    "class MHeap:\n",
    "    def __init__(self, size):\n",
    "        self.size = 0\n",
    "        self.arr = [None]*size\n",
    "        \n",
    "    def parent(self, i):\n",
    "        return (i-1)//2\n",
    "    \n",
    "    def leftChild(self, i):\n",
    "        return i*2 + 1\n",
    "    \n",
    "    def rightChild(self, i):\n",
    "        return i*2 + 2\n",
    "    \n",
    "    def shiftDown(self, index):\n",
    "        minIndex = index\n",
    "        l = self.leftChild(index)\n",
    "        if l < self.size and self.arr[l] < self.arr[minIndex]:\n",
    "            minIndex = self.leftChild(minIndex)\n",
    "        r = self.rightChild(index)\n",
    "        if r < self.size and self.arr[r] < self.arr[minIndex]:\n",
    "            minIndex = self.rightChild(index)\n",
    "            \n",
    "        if self.arr[minIndex] != self.arr[index]:\n",
    "            self.arr[minIndex], self.arr[index] = self.arr[index], self.arr[minIndex]\n",
    "            self.shiftDown(minIndex)\n",
    "        \n",
    "    def shiftUp(self, index):\n",
    "#         print(f'index = {index}; self.parent(index) = {self.parent(index)}; arr = {self.arr}')\n",
    "        while self.parent(index) >= 0 and self.arr[self.parent(index)] > self.arr[index]:\n",
    "            self.arr[self.parent(index)], self.arr[index] = self.arr[index], self.arr[self.parent(index)]\n",
    "            index = self.parent(index)\n",
    "#             print(f'Array = {self.arr}; new index = {index}')\n",
    "            \n",
    "    def buildHeap(self):\n",
    "        for i in range(self.size // 2, -1, -1):\n",
    "            self.shiftDown(i)\n",
    "            \n",
    "    def extractMin(self):\n",
    "        if self.size < 0:\n",
    "            return\n",
    "        minVal = self.arr[0]\n",
    "        self.arr[0] = self.arr[self.size-1]\n",
    "#         print(f'Array before ShiftDown : {self.arr}')\n",
    "        self.arr[self.size-1] = None\n",
    "        self.size -= 1\n",
    "        self.shiftDown(0)\n",
    "#         print(f'Array after ShiftDown : {self.arr}')\n",
    "        return minVal\n",
    "    \n",
    "    def insert(self, data):\n",
    "        if self.size >= len(self.arr):\n",
    "            print(\"Heap is full\")\n",
    "            return\n",
    "#         print(f'inserting data at {self.size}')\n",
    "        self.arr[self.size] = data\n",
    "        self.shiftUp(self.size)\n",
    "        self.size += 1\n",
    "#         print(f'Array = {self.arr}')"
   ]
  },
  {
   "cell_type": "markdown",
   "metadata": {},
   "source": [
    "Parallel Processing"
   ]
  },
  {
   "cell_type": "code",
   "execution_count": 581,
   "metadata": {},
   "outputs": [],
   "source": [
    "from collections import namedtuple \n",
    "\n",
    "class MinHeap:\n",
    "    def __init__(self):\n",
    "        self.size = 0\n",
    "        self.arr = []\n",
    "        \n",
    "    def parent(self, i):\n",
    "        return (i-1)//2\n",
    "    \n",
    "    def leftChild(self, i):\n",
    "        return i*2 + 1\n",
    "    \n",
    "    def rightChild(self, i):\n",
    "        return i*2 + 2\n",
    "    \n",
    "    def shiftDown(self, index):\n",
    "        minIndex = index\n",
    "        l = self.leftChild(index)\n",
    "        if l < self.size and self.arr[l].priority < self.arr[minIndex].priority:\n",
    "            minIndex = self.leftChild(minIndex)\n",
    "        r = self.rightChild(index)\n",
    "        if r < self.size and self.arr[r].priority < self.arr[minIndex].priority:\n",
    "            minIndex = self.rightChild(index)\n",
    "#         print(f'minIndex = {minIndex}; index = {index}')\n",
    "        if minIndex != index:\n",
    "            self.arr[minIndex], self.arr[index] = self.arr[index], self.arr[minIndex]\n",
    "            self.shiftDown(minIndex)\n",
    "        \n",
    "    def shiftUp(self, index):\n",
    "#         print(f'index = {index}; self.parent(index) = {self.parent(index)}; arr = {self.arr}')\n",
    "        while self.parent(index) >= 0 and self.arr[self.parent(index)].priority > self.arr[index].priority:\n",
    "            self.arr[self.parent(index)], self.arr[index] = self.arr[index], self.arr[self.parent(index)]\n",
    "            index = self.parent(index)\n",
    "#             print(f'Array = {self.arr}; new index = {index}')\n",
    "            \n",
    "    def buildHeap(self):\n",
    "        for i in range(self.size // 2, -1, -1):\n",
    "            self.shiftDown(i)\n",
    "            \n",
    "    def extractMin(self):\n",
    "        if self.size <= 0:\n",
    "            return\n",
    "        minJob = self.arr[0]\n",
    "        self.arr[0] = self.arr[self.size-1]\n",
    "#         print(f'Array before ShiftDown : {self.arr}')\n",
    "        self.arr.remove(self.arr[self.size - 1])\n",
    "        self.size -= 1\n",
    "        self.shiftDown(0)\n",
    "#         print(f'Array after ShiftDown : {self.arr}')\n",
    "        return minJob\n",
    "    \n",
    "    def insert(self, data):\n",
    "#         print(f'inserting data at {self.size}')\n",
    "        self.arr.append(data)\n",
    "        self.shiftUp(self.size)\n",
    "        self.size += 1\n",
    "#         print(f'Array = {self.arr}')\n",
    "        \n",
    "    def getMin(self):\n",
    "        return self.arr[0]"
   ]
  },
  {
   "cell_type": "code",
   "execution_count": 582,
   "metadata": {},
   "outputs": [
    {
     "name": "stdout",
     "output_type": "stream",
     "text": [
      "JobHeap = [item(val=0, priority=1), item(val=1, priority=3), item(val=2, priority=2), item(val=3, priority=9), item(val=4, priority=4), item(val=5, priority=6), item(val=6, priority=2)]; JobHeap Size = 7\n",
      "Extracting Job with min finish time from Job Heap : item(val=0, priority=1) and Inserting into thread heap\n",
      "\n",
      "N = 7; Thread Heap = [item(val=1, priority=0)]; Thread Heap Size = 1; Job Heap = [item(val=2, priority=2), item(val=1, priority=3), item(val=3, priority=9), item(val=4, priority=4), item(val=5, priority=6), item(val=6, priority=2)] \n",
      "\n",
      "Inserting (0, 1) into start_times\n",
      "Extracting thread with min index from Thread Heap : item(val=1, priority=0) and inserting to Job Heap [item(val=2, priority=2), item(val=1, priority=3), item(val=0, priority=2), item(val=4, priority=4), item(val=5, priority=6), item(val=6, priority=2), item(val=3, priority=9)]\n",
      "N = 8; Thread Heap = []; Job Heap = [item(val=2, priority=2), item(val=1, priority=3), item(val=0, priority=2), item(val=4, priority=4), item(val=5, priority=6), item(val=6, priority=2), item(val=3, priority=9)]\n",
      "\n",
      "JobHeap = [item(val=2, priority=2), item(val=1, priority=3), item(val=0, priority=2), item(val=4, priority=4), item(val=5, priority=6), item(val=6, priority=2), item(val=3, priority=9)]; JobHeap Size = 7\n",
      "Extracting Job with min finish time from Job Heap : item(val=2, priority=2) and Inserting into thread heap\n",
      "Extracting Job with min finish time from Job Heap : item(val=0, priority=2)\n",
      "Extracting Job with min finish time from Job Heap : item(val=6, priority=2)\n",
      "\n",
      "N = 8; Thread Heap = [item(val=2, priority=0), item(val=2, priority=2), item(val=2, priority=6)]; Thread Heap Size = 3; Job Heap = [item(val=1, priority=3), item(val=5, priority=6), item(val=4, priority=4), item(val=3, priority=9)] \n",
      "\n",
      "Inserting (0, 2) into start_times\n",
      "Extracting thread with min index from Thread Heap : item(val=2, priority=0) and inserting to Job Heap [item(val=1, priority=3), item(val=0, priority=4), item(val=4, priority=4), item(val=3, priority=9), item(val=5, priority=6)]\n",
      "N = 9; Thread Heap = [item(val=2, priority=2), item(val=2, priority=6)]; Job Heap = [item(val=1, priority=3), item(val=0, priority=4), item(val=4, priority=4), item(val=3, priority=9), item(val=5, priority=6)]\n",
      "\n",
      "Inserting (2, 2) into start_times\n"
     ]
    },
    {
     "ename": "IndexError",
     "evalue": "list index out of range",
     "output_type": "error",
     "traceback": [
      "\u001b[0;31m---------------------------------------------------------------------------\u001b[0m",
      "\u001b[0;31mIndexError\u001b[0m                                Traceback (most recent call last)",
      "\u001b[0;32m<ipython-input-582-d6e9f821980e>\u001b[0m in \u001b[0;36m<module>\u001b[0;34m\u001b[0m\n\u001b[1;32m     41\u001b[0m         \u001b[0mprint\u001b[0m\u001b[0;34m(\u001b[0m\u001b[0;34mf'Inserting {(j.priority, j.val)} into start_times'\u001b[0m\u001b[0;34m)\u001b[0m\u001b[0;34m\u001b[0m\u001b[0;34m\u001b[0m\u001b[0m\n\u001b[1;32m     42\u001b[0m         \u001b[0mstart_times\u001b[0m\u001b[0;34m.\u001b[0m\u001b[0mappend\u001b[0m\u001b[0;34m(\u001b[0m\u001b[0;34m(\u001b[0m\u001b[0mj\u001b[0m\u001b[0;34m.\u001b[0m\u001b[0mpriority\u001b[0m\u001b[0;34m,\u001b[0m \u001b[0mj\u001b[0m\u001b[0;34m.\u001b[0m\u001b[0mval\u001b[0m\u001b[0;34m)\u001b[0m\u001b[0;34m)\u001b[0m\u001b[0;34m\u001b[0m\u001b[0;34m\u001b[0m\u001b[0m\n\u001b[0;32m---> 43\u001b[0;31m         \u001b[0mjob_heap\u001b[0m\u001b[0;34m.\u001b[0m\u001b[0minsert\u001b[0m\u001b[0;34m(\u001b[0m\u001b[0mitem\u001b[0m\u001b[0;34m(\u001b[0m\u001b[0mj\u001b[0m\u001b[0;34m.\u001b[0m\u001b[0mpriority\u001b[0m\u001b[0;34m,\u001b[0m \u001b[0mj\u001b[0m\u001b[0;34m.\u001b[0m\u001b[0mval\u001b[0m \u001b[0;34m+\u001b[0m \u001b[0mjob_times\u001b[0m\u001b[0;34m[\u001b[0m\u001b[0mn\u001b[0m\u001b[0;34m]\u001b[0m\u001b[0;34m)\u001b[0m\u001b[0;34m)\u001b[0m\u001b[0;34m\u001b[0m\u001b[0;34m\u001b[0m\u001b[0m\n\u001b[0m\u001b[1;32m     44\u001b[0m         \u001b[0mprint\u001b[0m\u001b[0;34m(\u001b[0m\u001b[0;34mf'Extracting thread with min index from Thread Heap : {j} and inserting to Job Heap {job_heap.arr}'\u001b[0m\u001b[0;34m)\u001b[0m\u001b[0;34m\u001b[0m\u001b[0;34m\u001b[0m\u001b[0m\n\u001b[1;32m     45\u001b[0m         \u001b[0mn\u001b[0m \u001b[0;34m=\u001b[0m \u001b[0mn\u001b[0m \u001b[0;34m+\u001b[0m \u001b[0;36m1\u001b[0m\u001b[0;34m\u001b[0m\u001b[0;34m\u001b[0m\u001b[0m\n",
      "\u001b[0;31mIndexError\u001b[0m: list index out of range"
     ]
    }
   ],
   "source": [
    "item = namedtuple('item', ['val', 'priority'])\n",
    "\n",
    "no_of_threads = 7\n",
    "no_of_jobs = 9\n",
    "n = 0\n",
    "\n",
    "# job_times = [1, 1, 1, 1, 1, 1, 1, 1, 1, 1, 1, 1, 1, 1, 1, 1, 1, 1, 1, 1]\n",
    "job_times = [1, 3, 2, 9, 4, 6, 2, 1, 2]\n",
    "start_times = []\n",
    "arr = []\n",
    "jobs = []\n",
    "\n",
    "job_heap = MinHeap()\n",
    "thread_heap = MinHeap()\n",
    "\n",
    "for thread_index in range(min(no_of_threads, no_of_jobs)):\n",
    "    arr.append(item(thread_index, job_times[thread_index]))\n",
    "    start_times.append((thread_index, 0))\n",
    "\n",
    "for job in arr:\n",
    "    job_heap.insert(job)\n",
    "    n += 1\n",
    "    \n",
    "# print(f'Job Heap = {job_heap.arr}')\n",
    "    \n",
    "while n < no_of_jobs:\n",
    "    print(f'JobHeap = {job_heap.arr}; JobHeap Size = {job_heap.size}')\n",
    "    finishedJob = job_heap.extractMin()\n",
    "    print(f'Extracting Job with min finish time from Job Heap : {finishedJob} and Inserting into thread heap')\n",
    "#     start_times.append((finishedJob.val, finishedJob.priority))\n",
    "    thread_heap.insert(item(finishedJob.priority, finishedJob.val))\n",
    "    while job_heap.size > 0 and job_heap.getMin().priority - finishedJob.priority == 0:\n",
    "        finishedJob = job_heap.extractMin()\n",
    "        print(f'Extracting Job with min finish time from Job Heap : {finishedJob}')\n",
    "        thread_heap.insert(item(finishedJob.priority, finishedJob.val))\n",
    "\n",
    "    print(f'\\nN = {n}; Thread Heap = {thread_heap.arr}; Thread Heap Size = {thread_heap.size}; Job Heap = {job_heap.arr} \\n')\n",
    "        \n",
    "    while thread_heap.size > 0:\n",
    "        j = thread_heap.extractMin()\n",
    "        print(f'Inserting {(j.priority, j.val)} into start_times')\n",
    "        start_times.append((j.priority, j.val))\n",
    "        job_heap.insert(item(j.priority, j.val + job_times[n]))\n",
    "        print(f'Extracting thread with min index from Thread Heap : {j} and inserting to Job Heap {job_heap.arr}')\n",
    "        n = n + 1\n",
    "        print(f'N = {n}; Thread Heap = {thread_heap.arr}; Job Heap = {job_heap.arr}\\n')\n",
    "        job_heap.buildHeap()\n",
    "\n",
    "start_times"
   ]
  },
  {
   "cell_type": "code",
   "execution_count": 1255,
   "metadata": {},
   "outputs": [],
   "source": [
    "thread_heap.arr = [item(val=1, priority=0)]"
   ]
  },
  {
   "cell_type": "code",
   "execution_count": 1260,
   "metadata": {},
   "outputs": [
    {
     "name": "stdout",
     "output_type": "stream",
     "text": [
      "minIndex = 0; index = 0\n"
     ]
    }
   ],
   "source": [
    "thread_heap.shiftDown(0)"
   ]
  },
  {
   "cell_type": "code",
   "execution_count": 1375,
   "metadata": {},
   "outputs": [
    {
     "data": {
      "text/plain": [
       "[item(val=0, priority=4), item(val=2, priority=6), item(val=1, priority=10)]"
      ]
     },
     "execution_count": 1375,
     "metadata": {},
     "output_type": "execute_result"
    }
   ],
   "source": [
    "job_heap = MinHeap()\n",
    "job_heap.arr = [item(val=0, priority=4), item(val=2, priority=6), item(val=1, priority=10)]\n",
    "job_heap.size = 3\n",
    "job_heap.arr"
   ]
  },
  {
   "cell_type": "code",
   "execution_count": null,
   "metadata": {},
   "outputs": [],
   "source": [
    "[item(val=1, priority=10), item(val=2, priority=6), item(val=0, priority=12)]"
   ]
  },
  {
   "cell_type": "code",
   "execution_count": 1356,
   "metadata": {},
   "outputs": [],
   "source": [
    "job_heap.insert(item(val=1, priority=10))"
   ]
  },
  {
   "cell_type": "code",
   "execution_count": 1357,
   "metadata": {},
   "outputs": [],
   "source": [
    "job_heap.insert(item(val=2, priority=6))"
   ]
  },
  {
   "cell_type": "code",
   "execution_count": 1358,
   "metadata": {},
   "outputs": [],
   "source": [
    "job_heap.insert(item(val=0, priority=12))"
   ]
  },
  {
   "cell_type": "code",
   "execution_count": 1341,
   "metadata": {},
   "outputs": [
    {
     "data": {
      "text/plain": [
       "3"
      ]
     },
     "execution_count": 1341,
     "metadata": {},
     "output_type": "execute_result"
    }
   ],
   "source": [
    "job_heap.size"
   ]
  },
  {
   "cell_type": "code",
   "execution_count": 1369,
   "metadata": {},
   "outputs": [
    {
     "data": {
      "text/plain": [
       "[item(val=1, priority=10), item(val=2, priority=6)]"
      ]
     },
     "execution_count": 1369,
     "metadata": {},
     "output_type": "execute_result"
    }
   ],
   "source": [
    "job_heap.arr"
   ]
  },
  {
   "cell_type": "code",
   "execution_count": 1376,
   "metadata": {},
   "outputs": [
    {
     "name": "stdout",
     "output_type": "stream",
     "text": [
      "Array before ShiftDown : [item(val=1, priority=10), item(val=2, priority=6), item(val=1, priority=10)]\n",
      "Array after ShiftDown : [item(val=2, priority=6), item(val=1, priority=10)]\n"
     ]
    },
    {
     "data": {
      "text/plain": [
       "item(val=0, priority=4)"
      ]
     },
     "execution_count": 1376,
     "metadata": {},
     "output_type": "execute_result"
    }
   ],
   "source": [
    "job_heap.extractMin()"
   ]
  },
  {
   "cell_type": "markdown",
   "metadata": {},
   "source": [
    "# Hashing"
   ]
  },
  {
   "cell_type": "code",
   "execution_count": 89,
   "metadata": {},
   "outputs": [],
   "source": [
    "p = 1000000007\n",
    "x = 263\n",
    "m = 5"
   ]
  },
  {
   "cell_type": "code",
   "execution_count": 453,
   "metadata": {},
   "outputs": [],
   "source": [
    "def hash_string(string):\n",
    "    hashed_val = 0\n",
    "    s = []\n",
    "    for index, char in enumerate(string):\n",
    "        if index == len(string)-1:\n",
    "            hashed_val = hashed_val + (ord(char) * (263**index))%p\n",
    "            s.append(f'{x}^{index}*{ord(char)}%{p}')\n",
    "        else:\n",
    "            hashed_val += (ord(char)*(263**index))\n",
    "            s.append(f'{x}^{index}*{ord(char)} + ')\n",
    "    print(''.join(s))\n",
    "    return hashed_val % m"
   ]
  },
  {
   "cell_type": "code",
   "execution_count": 452,
   "metadata": {},
   "outputs": [
    {
     "name": "stdout",
     "output_type": "stream",
     "text": [
      "263^0*119 + 263^1*111 + 263^2*114 + 263^3*108 + 263^4*100%1000000007\n"
     ]
    },
    {
     "data": {
      "text/plain": [
       "3"
      ]
     },
     "execution_count": 452,
     "metadata": {},
     "output_type": "execute_result"
    }
   ],
   "source": [
    "hash_string('world')"
   ]
  },
  {
   "cell_type": "code",
   "execution_count": 456,
   "metadata": {},
   "outputs": [],
   "source": [
    "def _hash_func(string):\n",
    "    hashed_val = 0\n",
    "    for index, char in enumerate(string):\n",
    "        hashed_val += ord(char)*(x**index)\n",
    "    return (((hashed_val % p) + p) % p) % m"
   ]
  },
  {
   "cell_type": "code",
   "execution_count": 458,
   "metadata": {},
   "outputs": [
    {
     "data": {
      "text/plain": [
       "4"
      ]
     },
     "execution_count": 458,
     "metadata": {},
     "output_type": "execute_result"
    }
   ],
   "source": [
    "_hash_func('Hell0')"
   ]
  },
  {
   "cell_type": "code",
   "execution_count": 450,
   "metadata": {},
   "outputs": [
    {
     "data": {
      "text/plain": [
       "3"
      ]
     },
     "execution_count": 450,
     "metadata": {},
     "output_type": "execute_result"
    }
   ],
   "source": [
    "-2 % 5"
   ]
  },
  {
   "cell_type": "code",
   "execution_count": 451,
   "metadata": {},
   "outputs": [
    {
     "data": {
      "text/plain": [
       "3"
      ]
     },
     "execution_count": 451,
     "metadata": {},
     "output_type": "execute_result"
    }
   ],
   "source": [
    "3 % 5"
   ]
  },
  {
   "cell_type": "code",
   "execution_count": 483,
   "metadata": {},
   "outputs": [],
   "source": [
    "class Query:\n",
    "    def __init__(self, query):\n",
    "        self.type = query[0]\n",
    "        if self.type == 'check':\n",
    "            self.ind = int(query[1])\n",
    "        else:\n",
    "            self.s = query[1]\n",
    "\n",
    "\n",
    "class QueryProcessor:\n",
    "    _multiplier = 263\n",
    "    _prime = 1000000007\n",
    "\n",
    "    def __init__(self, bucket_count):\n",
    "        self.bucket_count = bucket_count\n",
    "        # store all strings in one list\n",
    "        self.elems = [None]*bucket_count\n",
    "\n",
    "    def _hash_func(self, string):\n",
    "        hashed_val = 0\n",
    "        for index, char in enumerate(string):\n",
    "            hashed_val += ord(char)*(self._multiplier**index)\n",
    "        return (hashed_val % self._prime) % self.bucket_count\n",
    "\n",
    "    def write_search_result(self, was_found):\n",
    "        print('yes' if was_found else 'no')\n",
    "\n",
    "    def write_chain(self, chain):\n",
    "        print(' '.join(chain))\n",
    "\n",
    "    def read_query(self):\n",
    "        return Query(input().split())\n",
    "\n",
    "    def process_query(self, query):\n",
    "        if query.type == \"check\":\n",
    "            # use reverse order, because we append strings to the end\n",
    "#             print(f'checking index {query.ind}')\n",
    "            ilist = self.elems[query.ind]\n",
    "            if ilist:\n",
    "                return self.write_chain(ilist.traverse())\n",
    "            else:\n",
    "                print('\\n')\n",
    "        else:\n",
    "            index = self._hash_func(query.s)\n",
    "#             print(f'index = {index}')\n",
    "            \n",
    "            if query.type == 'find':\n",
    "#                 print(f'finding index = {index}')\n",
    "                ll = self.elems[index]\n",
    "                isFound = False\n",
    "                if ll:\n",
    "                    isFound = ll.find(query.s)\n",
    "                self.write_search_result(isFound)\n",
    "            elif query.type == 'add':\n",
    "#                 print(f'adding to index{index}; Val at index = {self.elems[index]}')\n",
    "                if not self.elems[index]:\n",
    "#                     print('made a linkedlist')\n",
    "                    self.elems[index] = LinkedList()\n",
    "#                     print(f'adding to index = {index}')\n",
    "                if not self.elems[index].find(query.s):\n",
    "                    self.elems[index].insert_at_head(query.s)\n",
    "            else:\n",
    "                ll = self.elems[index]\n",
    "                if ll:\n",
    "                    if self.elems[index].find(query.s):\n",
    "                        self.elems[index].delete(query.s)\n",
    "\n",
    "    def process_queries(self):\n",
    "        n = int(input())\n",
    "        for i in range(n):\n",
    "            self.process_query(self.read_query())\n"
   ]
  },
  {
   "cell_type": "code",
   "execution_count": 485,
   "metadata": {},
   "outputs": [
    {
     "name": "stdout",
     "output_type": "stream",
     "text": [
      "3\n",
      "3\n",
      "add add\n",
      "add add\n",
      "del add\n"
     ]
    }
   ],
   "source": [
    "if __name__ == '__main__':\n",
    "    bucket_count = int(input())\n",
    "    proc = QueryProcessor(bucket_count)\n",
    "    proc.process_queries()"
   ]
  },
  {
   "cell_type": "markdown",
   "metadata": {},
   "source": [
    "# Find Pattern"
   ]
  },
  {
   "cell_type": "code",
   "execution_count": null,
   "metadata": {},
   "outputs": [],
   "source": [
    "abcbad"
   ]
  },
  {
   "cell_type": "code",
   "execution_count": null,
   "metadata": {},
   "outputs": [],
   "source": [
    "ord('')"
   ]
  },
  {
   "cell_type": "code",
   "execution_count": 511,
   "metadata": {},
   "outputs": [
    {
     "data": {
      "text/plain": [
       "[2, 1, 0]"
      ]
     },
     "execution_count": 511,
     "metadata": {},
     "output_type": "execute_result"
    }
   ],
   "source": [
    "list(range(2, -1, -1))"
   ]
  },
  {
   "cell_type": "code",
   "execution_count": 578,
   "metadata": {},
   "outputs": [],
   "source": [
    "def hashf(text, pattern, p, x):\n",
    "    len_p = len(pattern)\n",
    "    len_t = len(text)\n",
    "    text = ''.join(reversed(text))\n",
    "    ind = 0\n",
    "    \n",
    "    hashed_pattern_val = 0\n",
    "    hashed_text = [0]\n",
    "    \n",
    "    for index, char in enumerate(pattern):\n",
    "        hashed_pattern_val += ord(char)*(x**index)\n",
    "    \n",
    "    for index in range(len_t-len_p+1):\n",
    "        if index == 0:\n",
    "            for j in range(len_p-1, -1, -1):\n",
    "                hashed_text[0] += ord(text[ind])*(x**j) % p\n",
    "                ind += 1 \n",
    "        else:\n",
    "            hashed_text.append(((hashed_text[-1] - ord(text[index-1])*(x**(len_p-1)))*x + ord(text[index+len_p-1])) % p) \n",
    "            \n",
    "    return hashed_pattern_val%p, hashed_text"
   ]
  },
  {
   "cell_type": "code",
   "execution_count": 579,
   "metadata": {},
   "outputs": [
    {
     "data": {
      "text/plain": [
       "(13278721, [58278724, 13278721, 13278721, 13278722])"
      ]
     },
     "execution_count": 579,
     "metadata": {},
     "output_type": "execute_result"
    }
   ],
   "source": [
    "hashf('baaaaaaa', 'aaaaa', 45000003, 263)"
   ]
  },
  {
   "cell_type": "code",
   "execution_count": 570,
   "metadata": {},
   "outputs": [],
   "source": [
    "def get_occurrences(pattern, text):\n",
    "    res = []\n",
    "    len_p = len(pattern)\n",
    "    hashed_pattern_val, hashed_text = hashf(text, pattern, 45000003, 263)\n",
    "    for index, val in enumerate(reversed(hashed_text)):\n",
    "        if hashed_pattern_val == val:\n",
    "            if text[index:index+len_p] == pattern:\n",
    "                res.append(index)\n",
    "    return res"
   ]
  },
  {
   "cell_type": "code",
   "execution_count": 571,
   "metadata": {},
   "outputs": [
    {
     "data": {
      "text/plain": [
       "[4]"
      ]
     },
     "execution_count": 571,
     "metadata": {},
     "output_type": "execute_result"
    }
   ],
   "source": [
    "get_occurrences('Test', 'testTesttesT')"
   ]
  },
  {
   "cell_type": "code",
   "execution_count": 584,
   "metadata": {},
   "outputs": [],
   "source": [
    "nums = [4,1,2,1,2]"
   ]
  },
  {
   "cell_type": "code",
   "execution_count": 586,
   "metadata": {},
   "outputs": [],
   "source": [
    "for n in nums:\n",
    "    temp = {}\n",
    "    if n in temp.keys():\n",
    "        pass\n",
    "    else:\n",
    "        temp[n] = 1"
   ]
  },
  {
   "cell_type": "code",
   "execution_count": 587,
   "metadata": {},
   "outputs": [
    {
     "data": {
      "text/plain": [
       "{2: 1}"
      ]
     },
     "execution_count": 587,
     "metadata": {},
     "output_type": "execute_result"
    }
   ],
   "source": [
    "temp"
   ]
  },
  {
   "cell_type": "markdown",
   "metadata": {},
   "source": [
    "# BST"
   ]
  },
  {
   "cell_type": "code",
   "execution_count": 1034,
   "metadata": {},
   "outputs": [],
   "source": [
    "class TNode:\n",
    "    def __init__(self, data=None):\n",
    "        self.parent = None\n",
    "        self.left = None\n",
    "        self.right = None\n",
    "        self.val = data\n",
    "        \n",
    "class BST:\n",
    "    def __init__(self, root):\n",
    "        self.root = root\n",
    "        \n",
    "    def insert(self, node, root=None):\n",
    "        if not root:\n",
    "            root = self.root\n",
    "            \n",
    "        if root.val < node.val: \n",
    "            if root.right is None: \n",
    "                root.right = node \n",
    "                node.parent = root\n",
    "            else: \n",
    "                self.insert(node, root.right) \n",
    "        else: \n",
    "            if root.left is None: \n",
    "                root.left = node \n",
    "                node.parent = root\n",
    "            else: \n",
    "                self.insert(node, root.left) \n",
    "                \n",
    "    def inorder(self, root=None, t='main'):\n",
    "        if not root:\n",
    "            root = self.root\n",
    "        if root.left:\n",
    "            self.inorder(root.left, 'left')\n",
    "        print(root.val, t)\n",
    "        if root.right:\n",
    "            self.inorder(root.right, 'right')\n",
    "            \n",
    "    def find(self, data, root=None):\n",
    "        if not root:\n",
    "            root = self.root  \n",
    "        if data == root.val:\n",
    "            return True, root\n",
    "        elif data < root.val:\n",
    "            print(f'data({data}) < root({root.val})')\n",
    "            if root.left:\n",
    "                return self.find(data, root.left) \n",
    "            else:\n",
    "                return False, root\n",
    "        elif data > root.val:\n",
    "            print(f'data({data}) > root({root.val})')\n",
    "            if root.right:\n",
    "                return self.find(data, root.right)\n",
    "            else:\n",
    "                return False, root\n",
    "            \n",
    "    def next(self, data):\n",
    "        isFound, node = self.find(data)\n",
    "        if node.right:\n",
    "            return self.leftDecendent(node.right)\n",
    "        else:\n",
    "            return self.rightDecendent(node)\n",
    "            \n",
    "    def leftDecendent(self, node):\n",
    "        if node.left is None:\n",
    "            return node\n",
    "        else:\n",
    "            return self.leftDecendent(node.left)\n",
    "        \n",
    "    def rightDecendent(self, node):\n",
    "        if node.parent is None:\n",
    "            return\n",
    "        \n",
    "        if node.val  > node.parent.val:\n",
    "            return self.rightDecendent(node.parent)\n",
    "        else:\n",
    "            return node.parent\n",
    "            "
   ]
  },
  {
   "cell_type": "code",
   "execution_count": 1035,
   "metadata": {},
   "outputs": [],
   "source": [
    "root = TNode(9)\n",
    "tree = BST(root)\n",
    "\n",
    "tree.insert(TNode(7))\n",
    "tree.insert(TNode(3))\n",
    "tree.insert(TNode(5))\n",
    "tree.insert(TNode(1))\n",
    "tree.insert(TNode(2))\n",
    "tree.insert(TNode(4))"
   ]
  },
  {
   "cell_type": "code",
   "execution_count": 1036,
   "metadata": {},
   "outputs": [
    {
     "name": "stdout",
     "output_type": "stream",
     "text": [
      "1 left\n",
      "2 right\n",
      "3 left\n",
      "4 left\n",
      "5 right\n",
      "7 left\n",
      "9 main\n"
     ]
    }
   ],
   "source": [
    "tree.inorder()"
   ]
  },
  {
   "cell_type": "code",
   "execution_count": 1004,
   "metadata": {},
   "outputs": [
    {
     "name": "stdout",
     "output_type": "stream",
     "text": [
      "9\n"
     ]
    },
    {
     "data": {
      "text/plain": [
       "<__main__.TNode at 0x7f4422b89e90>"
      ]
     },
     "execution_count": 1004,
     "metadata": {},
     "output_type": "execute_result"
    }
   ],
   "source": [
    "n = tree.find(9)[1]\n",
    "print(n.val)\n",
    "tree.leftDecendent(n)"
   ]
  },
  {
   "cell_type": "markdown",
   "metadata": {},
   "source": [
    "# Tree"
   ]
  },
  {
   "cell_type": "code",
   "execution_count": 22,
   "metadata": {},
   "outputs": [
    {
     "name": "stdout",
     "output_type": "stream",
     "text": [
      "5\n",
      "4 1 2\n",
      "2 3 4\n",
      "5 -1 -1\n",
      "1 -1 -1\n",
      "3 -1 -1\n",
      "1 2 3 4 5\n",
      "4 2 1 3 5\n",
      "1 3 2 5 4\n"
     ]
    }
   ],
   "source": [
    "# python3\n",
    "\n",
    "import sys, threading\n",
    "\n",
    "sys.setrecursionlimit(10 ** 6)  # max depth of recursion\n",
    "threading.stack_size(2 ** 27)  # new thread will get stack of such size\n",
    "\n",
    "class TreeNode:\n",
    "    def __init__(self, val):\n",
    "        self.val = val\n",
    "        self.left = None\n",
    "        self.right = None\n",
    "        self.parent = None\n",
    "\n",
    "\n",
    "class TreeOrders:\n",
    "    def __init__(self):\n",
    "        self.root = None\n",
    "        self.inOrderList = []\n",
    "        self.preOrderList = []\n",
    "        self.postOrderList = []\n",
    "        \n",
    "    def read(self):\n",
    "        self.n = int(input())\n",
    "        self.key = [0 for i in range(self.n)]\n",
    "        self.left = [0 for i in range(self.n)]\n",
    "        self.right = [0 for i in range(self.n)]\n",
    "        for i in range(self.n):\n",
    "            [a, b, c] = map(int, input().split())\n",
    "            self.key[i] = a\n",
    "            self.left[i] = b\n",
    "            self.right[i] = c\n",
    "        \n",
    "    def find(self, data, root=None):\n",
    "        if not root:\n",
    "            root = self.root  \n",
    "        if data == root.val:\n",
    "            return True, root\n",
    "        elif data < root.val:\n",
    "#             print(f'data({data}) < root({root.val})')\n",
    "            if root.left:\n",
    "                return self.find(data, root.left) \n",
    "            else:\n",
    "                return False, root\n",
    "        elif data > root.val:\n",
    "#             print(f'data({data}) > root({root.val})')\n",
    "            if root.right:\n",
    "                return self.find(data, root.right)\n",
    "            else:\n",
    "                return False, root\n",
    "        \n",
    "    def generateTree(self):\n",
    "        self.root = TreeNode(self.key[0])\n",
    "        self.root.left = TreeNode(self.key[self.left[0]])\n",
    "        self.root.right = TreeNode(self.key[self.right[0]])\n",
    "        for i in range(1, self.n):\n",
    "            isFound, node = self.find(self.key[i])\n",
    "            print(f'self.key[i] : {self.key[i]}; isFound: {isFound}')\n",
    "            leftIndex = self.left[i]\n",
    "            rightIndex = self.right[i]\n",
    "            if leftIndex != -1:\n",
    "                node.left = TreeNode(self.key[self.left[i]])\n",
    "                print(f'node={node.val}; node.left={node.left.val};')\n",
    "            if rightIndex != -1:\n",
    "                node.right = TreeNode(self.key[self.right[i]])\n",
    "                print(f'node={node.val}; node.right={node.right.val};')\n",
    "            \n",
    "            \n",
    "    def inOrder(self, root=None):\n",
    "        if root is None:\n",
    "            root = self.root \n",
    "        if root.left:\n",
    "            self.inOrder(root.left)\n",
    "        self.inOrderList.append(root.val)\n",
    "        if root.right:\n",
    "            self.inOrder(root.right)\n",
    "\n",
    "    def preOrder(self, root=None):\n",
    "        if root is None:\n",
    "            root = self.root \n",
    "        self.preOrderList.append(root.val)\n",
    "        if root.left:\n",
    "            self.preOrder(root.left)\n",
    "        if root.right:\n",
    "            self.preOrder(root.right)\n",
    "\n",
    "    def postOrder(self, root=None):\n",
    "        if root is None:\n",
    "            root = self.root \n",
    "        if root.left:\n",
    "            self.postOrder(root.left)\n",
    "        if root.right:\n",
    "            self.postOrder(root.right)\n",
    "        self.postOrderList.append(root.val)\n",
    "\n",
    "\n",
    "def main():\n",
    "    tree = TreeOrders()\n",
    "    tree.read()\n",
    "    tree.generateTree()\n",
    "    tree.inOrder()\n",
    "    tree.preOrder()\n",
    "    tree.postOrder()\n",
    "    print(\" \".join(str(x) for x in tree.inOrderList))\n",
    "    print(\" \".join(str(x) for x in tree.preOrderList))\n",
    "    print(\" \".join(str(x) for x in tree.postOrderList))\n",
    "\n",
    "\n",
    "main()"
   ]
  },
  {
   "cell_type": "code",
   "execution_count": null,
   "metadata": {},
   "outputs": [],
   "source": [
    "4\n",
    "4 1 -1\n",
    "2 2 3\n",
    "1 -1 -1\n",
    "5 -1 -1"
   ]
  },
  {
   "cell_type": "code",
   "execution_count": null,
   "metadata": {},
   "outputs": [],
   "source": [
    "3\n",
    "2 1 2\n",
    "2 -1 -1\n",
    "3 -1 -1"
   ]
  }
 ],
 "metadata": {
  "kernelspec": {
   "display_name": "Python 3",
   "language": "python",
   "name": "python3"
  },
  "language_info": {
   "codemirror_mode": {
    "name": "ipython",
    "version": 3
   },
   "file_extension": ".py",
   "mimetype": "text/x-python",
   "name": "python",
   "nbconvert_exporter": "python",
   "pygments_lexer": "ipython3",
   "version": "3.7.4"
  }
 },
 "nbformat": 4,
 "nbformat_minor": 2
}
