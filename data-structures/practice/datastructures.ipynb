{
 "cells": [
  {
   "cell_type": "markdown",
   "metadata": {},
   "source": [
    "# LinkedList"
   ]
  },
  {
   "cell_type": "code",
   "execution_count": 139,
   "metadata": {},
   "outputs": [],
   "source": [
    "class Node:\n",
    "    def __init__(self, val):\n",
    "        self.val = val\n",
    "        self.next = None\n",
    "        \n",
    "class LinkedList:\n",
    "    def __init__(self):\n",
    "        self.head = None\n",
    "        self.tail = None\n",
    "        \n",
    "    def insert(self, data):\n",
    "        if self.head is None:\n",
    "            self.head = Node(data)\n",
    "            self.tail = self.head\n",
    "        else:\n",
    "            self.tail.next = Node(data)\n",
    "            self.tail = self.tail.next\n",
    "            \n",
    "    def insert_at(self, pos, data):\n",
    "        node = self.head\n",
    "        if pos == 0:\n",
    "            self.head = Node(data)\n",
    "            self.head.next = node\n",
    "        else:\n",
    "            while pos-1>0:\n",
    "                node = node.next\n",
    "                pos = pos-1\n",
    "            next_node = node.next\n",
    "            node.next = Node(data)\n",
    "            node.next.next = next_node\n",
    "        \n",
    "    def pop_front(self):\n",
    "        if self.head is None:\n",
    "            print('LinkedList is Empty')\n",
    "            return\n",
    "        node = self.head\n",
    "        self.head = self.head.next\n",
    "        \n",
    "    def traverse(self):\n",
    "        node = self.head\n",
    "        while node != None:\n",
    "            print(node.val)\n",
    "            node = node.next"
   ]
  },
  {
   "cell_type": "code",
   "execution_count": 140,
   "metadata": {},
   "outputs": [
    {
     "name": "stdout",
     "output_type": "stream",
     "text": [
      "1\n",
      "2\n",
      "3\n",
      "10\n",
      "4\n",
      "5\n"
     ]
    }
   ],
   "source": [
    "l1 = LinkedList()\n",
    "\n",
    "l1.insert(1)\n",
    "l1.insert(2)\n",
    "l1.insert(3)\n",
    "l1.insert(4)\n",
    "\n",
    "l1.insert_at(3, data=10)\n",
    "\n",
    "l1.insert(5)\n",
    "\n",
    "l1.traverse()"
   ]
  },
  {
   "cell_type": "code",
   "execution_count": 149,
   "metadata": {},
   "outputs": [
    {
     "name": "stdout",
     "output_type": "stream",
     "text": [
      "LinkedList is Empty\n"
     ]
    }
   ],
   "source": [
    "l1.pop_front()\n",
    "l1.traverse()"
   ]
  },
  {
   "cell_type": "markdown",
   "metadata": {},
   "source": [
    "# Stack"
   ]
  },
  {
   "cell_type": "code",
   "execution_count": 399,
   "metadata": {},
   "outputs": [],
   "source": [
    "class Stack:\n",
    "    def __init__(self, size):\n",
    "        self.top = -1\n",
    "        self.arr = [None]*size\n",
    "        self.max = 0\n",
    "        \n",
    "    def push(self, data):\n",
    "        if self.top == len(self.arr)-1:\n",
    "            print('Stack is full')\n",
    "            return\n",
    "        else:\n",
    "            self.top = self.top + 1\n",
    "            self.arr[self.top] = data\n",
    "        print(self.arr)\n",
    "            \n",
    "    def pop(self):\n",
    "        if self.top == -1:\n",
    "            print(\"Stack is empty\")\n",
    "        else:\n",
    "            val = self.arr[self.top]\n",
    "            self.arr[self.top] = None\n",
    "            self.top = self.top - 1\n",
    "            return val\n",
    "            \n",
    "    def topp(self):\n",
    "        return self.arr[self.top]\n",
    "    \n",
    "    def maxx(self):\n",
    "        return self.max\n",
    "        "
   ]
  },
  {
   "cell_type": "code",
   "execution_count": 395,
   "metadata": {},
   "outputs": [
    {
     "name": "stdout",
     "output_type": "stream",
     "text": [
      "[2, None, None, None, None, None, None, None, None, None]\n",
      "[2, 3, None, None, None, None, None, None, None, None]\n",
      "[2, 3, 9, None, None, None, None, None, None, None]\n",
      "[2, 3, 9, 7, None, None, None, None, None, None]\n",
      "[2, 3, 9, 7, 2, None, None, None, None, None]\n"
     ]
    }
   ],
   "source": [
    "s1 = Stack(10)\n",
    "\n",
    "s1.push(2)\n",
    "s1.push(3)\n",
    "s1.push(9)\n",
    "s1.push(7)\n",
    "s1.push(2)"
   ]
  },
  {
   "cell_type": "code",
   "execution_count": 398,
   "metadata": {},
   "outputs": [
    {
     "data": {
      "text/plain": [
       "[2, 3, 9, 7, None, None, None, None, None, None]"
      ]
     },
     "execution_count": 398,
     "metadata": {},
     "output_type": "execute_result"
    }
   ],
   "source": [
    "s1.arr"
   ]
  },
  {
   "cell_type": "code",
   "execution_count": 397,
   "metadata": {},
   "outputs": [
    {
     "data": {
      "text/plain": [
       "2"
      ]
     },
     "execution_count": 397,
     "metadata": {},
     "output_type": "execute_result"
    }
   ],
   "source": [
    "s1.pop()"
   ]
  },
  {
   "cell_type": "code",
   "execution_count": 394,
   "metadata": {},
   "outputs": [
    {
     "data": {
      "text/plain": [
       "9"
      ]
     },
     "execution_count": 394,
     "metadata": {},
     "output_type": "execute_result"
    }
   ],
   "source": [
    "s1.maxx()"
   ]
  },
  {
   "cell_type": "markdown",
   "metadata": {},
   "source": [
    "# Queue"
   ]
  },
  {
   "cell_type": "code",
   "execution_count": 362,
   "metadata": {},
   "outputs": [],
   "source": [
    "class Queue:\n",
    "    def __init__(self):\n",
    "        self.head = None\n",
    "        self.tail = None\n",
    "        self.len = 0\n",
    "        \n",
    "    def enqueue(self, data):\n",
    "        if self.head == None:\n",
    "            self.head = Node(data)\n",
    "            self.tail = self.head\n",
    "        else:\n",
    "            node = self.tail\n",
    "            self.tail = Node(data)\n",
    "            node.next = self.tail\n",
    "        self.len += 1\n",
    "            \n",
    "    def dequeue(self):\n",
    "        if self.head == None:\n",
    "            print('Queue is empty')\n",
    "            return\n",
    "        else:\n",
    "            val = self.head.val\n",
    "            if self.len == 1:\n",
    "                self.head = None\n",
    "                self.tail = None\n",
    "            else:\n",
    "                self.head = self.head.next\n",
    "            self.len -= 1\n",
    "            return val\n",
    "    \n",
    "    def last(self):\n",
    "        return self.tail.val\n",
    "    \n",
    "    def first(self):\n",
    "        return self.head.val\n",
    "    \n",
    "    def isEmpty(self):\n",
    "        if self.head == None:\n",
    "            return True\n",
    "        else:\n",
    "            return False\n",
    "        \n",
    "    def get_vals(self):\n",
    "        node = self.head\n",
    "        vals = []\n",
    "        while node != self.tail:\n",
    "            vals.append(node.val)\n",
    "            node = node.next\n",
    "        vals.append(node.val)\n",
    "        return vals"
   ]
  },
  {
   "cell_type": "code",
   "execution_count": 363,
   "metadata": {},
   "outputs": [],
   "source": [
    "q1 = Queue()\n",
    "\n",
    "q1.enqueue(1)\n",
    "q1.enqueue(2)\n",
    "q1.enqueue(3)\n",
    "q1.enqueue(4)"
   ]
  },
  {
   "cell_type": "code",
   "execution_count": 364,
   "metadata": {},
   "outputs": [
    {
     "data": {
      "text/plain": [
       "[1, 2, 3, 4]"
      ]
     },
     "execution_count": 364,
     "metadata": {},
     "output_type": "execute_result"
    }
   ],
   "source": [
    "q1.get_vals()"
   ]
  },
  {
   "cell_type": "code",
   "execution_count": 350,
   "metadata": {},
   "outputs": [],
   "source": [
    "def are_matching(left, right):\n",
    "    return (left + right) in [\"()\", \"[]\", \"{}\"]\n",
    "\n",
    "\n",
    "def find_mismatch(text):\n",
    "    s1 = Stack(len(text))\n",
    "    for i, next in enumerate(text):\n",
    "        if next in \"([{\":\n",
    "            s1.push({'value': next, 'index': i + 1})\n",
    "\n",
    "        if next in \")]}\":\n",
    "            if s1.top == -1:\n",
    "                return i + 1\n",
    "\n",
    "            left = s1.pop().get('value')\n",
    "            right = next\n",
    "\n",
    "            if not are_matching(left, right):\n",
    "                return i + 1\n",
    "\n",
    "    if s1.top == -1:\n",
    "        return 'Success'\n",
    "    else:\n",
    "        return s1.arr[s1.top].get('index')"
   ]
  },
  {
   "cell_type": "code",
   "execution_count": 310,
   "metadata": {},
   "outputs": [
    {
     "data": {
      "text/plain": [
       "1"
      ]
     },
     "execution_count": 310,
     "metadata": {},
     "output_type": "execute_result"
    }
   ],
   "source": [
    "find_mismatch('}{}{')"
   ]
  },
  {
   "cell_type": "markdown",
   "metadata": {},
   "source": [
    "# Tree"
   ]
  },
  {
   "cell_type": "code",
   "execution_count": 127,
   "metadata": {},
   "outputs": [
    {
     "name": "stdout",
     "output_type": "stream",
     "text": [
      "sd\n"
     ]
    }
   ],
   "source": [
    "l = []\n",
    "if not l:\n",
    "    print(\"sd\")"
   ]
  },
  {
   "cell_type": "code",
   "execution_count": 150,
   "metadata": {},
   "outputs": [],
   "source": [
    "class Node:\n",
    "    def __str__(self):\n",
    "        return str(self.val)\n",
    "    \n",
    "    def __init__(self, val):\n",
    "        self.val = val\n",
    "        self.children = []\n",
    "        \n",
    "    def add_child(self, value):\n",
    "        self.children.append(value)\n",
    "        \n",
    "class Tree:\n",
    "    def __init__(self):\n",
    "        self.root = None\n",
    "        self.node_list = []\n",
    "            \n",
    "    def populate_tree(self):\n",
    "        for index, parent_node in enumerate(self.node_data):\n",
    "            if parent_node == -1:\n",
    "                self.root = self.node_list[index]\n",
    "                print(f'Root = {self.root}')\n",
    "            else:\n",
    "                self.node_list[parent_node].add_child(self.node_list[index])\n",
    "                print(f\"Adding child {index} to parent {parent_node}\")\n",
    "                \n",
    "    def load_data(self, node_data):\n",
    "        self.node_data = node_data\n",
    "        for i in range(len(node_data)):\n",
    "            self.node_list.append(Node(i))\n",
    "        \n",
    "        self.populate_tree()\n",
    "        \n",
    "    def get_depth(self, node):\n",
    "        if not node.children:\n",
    "            return 0\n",
    "        \n",
    "        return 1 + max([self.get_depth(children) for children in node.children])\n",
    "    \n",
    "    def get_height(self):\n",
    "        return self.get_depth(self.root) + 1\n",
    "            \n",
    "            \n",
    "    "
   ]
  },
  {
   "cell_type": "code",
   "execution_count": 151,
   "metadata": {},
   "outputs": [
    {
     "name": "stdout",
     "output_type": "stream",
     "text": [
      "Adding child 0 to parent 4\n",
      "Root = 1\n",
      "Adding child 2 to parent 4\n",
      "Adding child 3 to parent 1\n",
      "Adding child 4 to parent 1\n"
     ]
    }
   ],
   "source": [
    "t1 = Tree()\n",
    "t1.load_data([4, -1, 4, 1, 1])"
   ]
  },
  {
   "cell_type": "code",
   "execution_count": 152,
   "metadata": {},
   "outputs": [
    {
     "data": {
      "text/plain": [
       "3"
      ]
     },
     "execution_count": 152,
     "metadata": {},
     "output_type": "execute_result"
    }
   ],
   "source": [
    "t1.get_height()"
   ]
  },
  {
   "cell_type": "code",
   "execution_count": 370,
   "metadata": {},
   "outputs": [],
   "source": [
    "from collections import namedtuple\n",
    "import time\n",
    "\n",
    "Request = namedtuple(\"Request\", [\"arrived_at\", \"time_to_process\"])\n",
    "Response = namedtuple(\"Response\", [\"was_dropped\", \"started_at\"])\n",
    "\n",
    "\n",
    "class Buffer:\n",
    "    def __init__(self, size):\n",
    "        self.size = size\n",
    "        self.finish_time = Queue()\n",
    "        self.buffer_time = Queue()\n",
    "\n",
    "    def process(self, request):\n",
    "        print(\"\\n\")\n",
    "        flag = True\n",
    "        if self.finish_time.isEmpty():\n",
    "            self.finish_time.enqueue(request.time_to_process)\n",
    "            self.buffer_time.enqueue(request.time_to_process)\n",
    "            print(f'First request processed')\n",
    "            return Response(False, request.arrived_at)\n",
    "        print(f'arrival_time = {request.arrived_at}, finish_times = {self.finish_time.get_vals()}, buffer_times = {self.buffer_time.get_vals()}')\n",
    "        print(f'checking if arrival time {request.arrived_at} >= last finish time {self.finish_time.last()}')\n",
    "        if request.arrived_at >= self.finish_time.last():\n",
    "            while flag:\n",
    "                flag = self.finish_time.dequeue()\n",
    "                print(f'{flag} dequeued')\n",
    "            self.finish_time.enqueue(request.arrived_at + request.time_to_process)\n",
    "            return Response(False, request.arrived_at)\n",
    "        else:\n",
    "            if request.arrived_at >= self.buffer_time.first():\n",
    "                ft = self.finish_time.dequeue()\n",
    "                bt = self.buffer_time.dequeue()\n",
    "                print(f'dequeuing finish_time {ft} because its buffer time finished')\n",
    "            print(f'arrived when cpu is busy, hence adding to buffer')\n",
    "            if self.finish_time.len == self.size:\n",
    "                print('buffer is full, the request cannot be processed, hence dropped')\n",
    "                return Response(True, -1)\n",
    "            start_time = self.finish_time.last()\n",
    "            self.buffer_time.enqueue(self.finish_time.last() - request.arrived_at + request.time_to_process)\n",
    "            self.finish_time.enqueue(self.finish_time.last() + request.time_to_process)\n",
    "            return Response(False, start_time)\n",
    "        \n",
    "def process_requests(requests, buffer):\n",
    "    responses = []\n",
    "    if len(requests) == 0:\n",
    "        return\n",
    "    for request in requests:\n",
    "        responses.append(buffer.process(request))\n",
    "    return responses"
   ]
  },
  {
   "cell_type": "code",
   "execution_count": 371,
   "metadata": {},
   "outputs": [
    {
     "name": "stdout",
     "output_type": "stream",
     "text": [
      "\n",
      "\n",
      "First request processed\n",
      "\n",
      "\n",
      "arrival_time = 1, finish_times = [2], buffer_times = [2]\n",
      "checking if arrival time 1 >= last finish time 2\n",
      "arrived when cpu is busy, hence adding to buffer\n",
      "\n",
      "\n",
      "arrival_time = 2, finish_times = [2, 4], buffer_times = [2, 3]\n",
      "checking if arrival time 2 >= last finish time 4\n",
      "dequeuing finish_time 2 because its buffer time finished\n",
      "arrived when cpu is busy, hence adding to buffer\n",
      "\n",
      "\n",
      "arrival_time = 3, finish_times = [4, 6], buffer_times = [3, 4]\n",
      "checking if arrival time 3 >= last finish time 6\n",
      "dequeuing finish_time 4 because its buffer time finished\n",
      "arrived when cpu is busy, hence adding to buffer\n",
      "\n",
      "\n",
      "arrival_time = 4, finish_times = [6, 8], buffer_times = [4, 5]\n",
      "checking if arrival time 4 >= last finish time 8\n",
      "dequeuing finish_time 6 because its buffer time finished\n",
      "arrived when cpu is busy, hence adding to buffer\n",
      "\n",
      "\n",
      "arrival_time = 5, finish_times = [8, 10], buffer_times = [5, 6]\n",
      "checking if arrival time 5 >= last finish time 10\n",
      "dequeuing finish_time 8 because its buffer time finished\n",
      "arrived when cpu is busy, hence adding to buffer\n",
      "\n",
      "\n",
      "0\n",
      "2\n",
      "4\n",
      "6\n",
      "8\n",
      "10\n"
     ]
    }
   ],
   "source": [
    "requests = []\n",
    "buffer_size = 3\n",
    "ip_tuples = [(0, 2), (1, 2), (2, 2), (3, 2), (4, 2), (5, 2)]\n",
    "\n",
    "for tup in ip_tuples:\n",
    "    requests.append(Request(tup[0], tup[1]))\n",
    "\n",
    "buffer = Buffer(buffer_size)\n",
    "responses = process_requests(requests, buffer)\n",
    "\n",
    "print(\"\\n\")\n",
    "for response in responses:\n",
    "    print(response.started_at if not response.was_dropped else -1)"
   ]
  },
  {
   "cell_type": "markdown",
   "metadata": {},
   "source": [
    "# Auxiliary Stack"
   ]
  },
  {
   "cell_type": "code",
   "execution_count": 427,
   "metadata": {},
   "outputs": [],
   "source": [
    "class Stack:\n",
    "    def __init__(self, size):\n",
    "        self.top = -1\n",
    "        self.arr = [None]*size\n",
    "        self.max = 0\n",
    "        \n",
    "        self.aux = []\n",
    "        \n",
    "    def push(self, data):\n",
    "        if self.top == len(self.arr)-1:\n",
    "            return\n",
    "        else:\n",
    "            self.top = self.top + 1\n",
    "            self.arr[self.top] = data\n",
    "        if data > self.max:\n",
    "            self.max = data\n",
    "            \n",
    "    def pop(self):\n",
    "        if self.top == -1:\n",
    "            return\n",
    "        else:\n",
    "            val = self.arr[self.top]\n",
    "            self.arr[self.top] = None\n",
    "            self.top = self.top - 1\n",
    "            return val\n",
    "\n",
    "    def Max(self):\n",
    "        return self.max"
   ]
  },
  {
   "cell_type": "code",
   "execution_count": 428,
   "metadata": {},
   "outputs": [
    {
     "data": {
      "text/plain": [
       "9"
      ]
     },
     "execution_count": 428,
     "metadata": {},
     "output_type": "execute_result"
    }
   ],
   "source": [
    "s1 = Stack(10)\n",
    "\n",
    "s1.push(2)\n",
    "s1.push(3)\n",
    "s1.push(9)\n",
    "s1.push(7)\n",
    "s1.push(2)\n",
    "\n",
    "s1.Max()"
   ]
  }
 ],
 "metadata": {
  "kernelspec": {
   "display_name": "Python 3",
   "language": "python",
   "name": "python3"
  },
  "language_info": {
   "codemirror_mode": {
    "name": "ipython",
    "version": 3
   },
   "file_extension": ".py",
   "mimetype": "text/x-python",
   "name": "python",
   "nbconvert_exporter": "python",
   "pygments_lexer": "ipython3",
   "version": "3.7.2"
  }
 },
 "nbformat": 4,
 "nbformat_minor": 2
}
