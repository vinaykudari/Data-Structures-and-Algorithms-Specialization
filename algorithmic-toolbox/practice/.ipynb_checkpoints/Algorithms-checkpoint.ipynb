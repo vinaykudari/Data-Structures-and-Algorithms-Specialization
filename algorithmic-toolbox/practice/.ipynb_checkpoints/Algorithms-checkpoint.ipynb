{
 "cells": [
  {
   "cell_type": "markdown",
   "metadata": {},
   "source": [
    "Requirements"
   ]
  },
  {
   "cell_type": "code",
   "execution_count": 2,
   "metadata": {},
   "outputs": [
    {
     "name": "stdout",
     "output_type": "stream",
     "text": [
      "Collecting memory-profiler\n",
      "  Downloading https://files.pythonhosted.org/packages/f4/03/175d380294b2333b9b79c2f2aa235eb90ee95e3ddef644497a9455404312/memory_profiler-0.57.0.tar.gz\n",
      "Collecting psutil\n",
      "\u001b[?25l  Downloading https://files.pythonhosted.org/packages/73/93/4f8213fbe66fc20cb904f35e6e04e20b47b85bee39845cc66a0bcf5ccdcb/psutil-5.6.7.tar.gz (448kB)\n",
      "\u001b[K     |████████████████████████████████| 450kB 494kB/s eta 0:00:01\n",
      "\u001b[?25hBuilding wheels for collected packages: memory-profiler, psutil\n",
      "  Building wheel for memory-profiler (setup.py) ... \u001b[?25ldone\n",
      "\u001b[?25h  Created wheel for memory-profiler: filename=memory_profiler-0.57.0-cp38-none-any.whl size=28996 sha256=31e16c2bb7bafd94d256f005d622b48268037b063c42b873076b1cd1b94a4ef9\n",
      "  Stored in directory: /home/vinaykudari/.cache/pip/wheels/74/20/b5/20964ef97be73d2c3a695c9cad7bccd96d1e3e737a8163861f\n",
      "  Building wheel for psutil (setup.py) ... \u001b[?25ldone\n",
      "\u001b[?25h  Created wheel for psutil: filename=psutil-5.6.7-cp38-cp38-linux_x86_64.whl size=278626 sha256=a10e4bc21f2db483eb49ee581b4caf0212b449ccb531f0130feb3802c135f537\n",
      "  Stored in directory: /home/vinaykudari/.cache/pip/wheels/52/41/b0/bf50409fe2b1d3b79afa3eed71b54b3e30fe5b695db2c7ba2e\n",
      "Successfully built memory-profiler psutil\n",
      "Installing collected packages: psutil, memory-profiler\n",
      "Successfully installed memory-profiler-0.57.0 psutil-5.6.7\n"
     ]
    }
   ],
   "source": [
    "!pip install memory-profiler"
   ]
  },
  {
   "cell_type": "code",
   "execution_count": 4,
   "metadata": {},
   "outputs": [
    {
     "ename": "ModuleNotFoundError",
     "evalue": "No module named 'memory_profiler'",
     "output_type": "error",
     "traceback": [
      "\u001b[0;31m---------------------------------------------------------------------------\u001b[0m",
      "\u001b[0;31mModuleNotFoundError\u001b[0m                       Traceback (most recent call last)",
      "\u001b[0;32m<ipython-input-4-a0cba18ab8e1>\u001b[0m in \u001b[0;36m<module>\u001b[0;34m\u001b[0m\n\u001b[0;32m----> 1\u001b[0;31m \u001b[0mget_ipython\u001b[0m\u001b[0;34m(\u001b[0m\u001b[0;34m)\u001b[0m\u001b[0;34m.\u001b[0m\u001b[0mrun_line_magic\u001b[0m\u001b[0;34m(\u001b[0m\u001b[0;34m'load_ext'\u001b[0m\u001b[0;34m,\u001b[0m \u001b[0;34m'memory_profiler'\u001b[0m\u001b[0;34m)\u001b[0m\u001b[0;34m\u001b[0m\u001b[0;34m\u001b[0m\u001b[0m\n\u001b[0m\u001b[1;32m      2\u001b[0m \u001b[0mget_ipython\u001b[0m\u001b[0;34m(\u001b[0m\u001b[0;34m)\u001b[0m\u001b[0;34m.\u001b[0m\u001b[0mrun_line_magic\u001b[0m\u001b[0;34m(\u001b[0m\u001b[0;34m'reload_ext'\u001b[0m\u001b[0;34m,\u001b[0m \u001b[0;34m'memory_profiler'\u001b[0m\u001b[0;34m)\u001b[0m\u001b[0;34m\u001b[0m\u001b[0;34m\u001b[0m\u001b[0m\n\u001b[1;32m      3\u001b[0m \u001b[0;32mimport\u001b[0m \u001b[0msys\u001b[0m\u001b[0;34m\u001b[0m\u001b[0;34m\u001b[0m\u001b[0m\n",
      "\u001b[0;32m~/anaconda3/lib/python3.7/site-packages/IPython/core/interactiveshell.py\u001b[0m in \u001b[0;36mrun_line_magic\u001b[0;34m(self, magic_name, line, _stack_depth)\u001b[0m\n\u001b[1;32m   2312\u001b[0m                 \u001b[0mkwargs\u001b[0m\u001b[0;34m[\u001b[0m\u001b[0;34m'local_ns'\u001b[0m\u001b[0;34m]\u001b[0m \u001b[0;34m=\u001b[0m \u001b[0msys\u001b[0m\u001b[0;34m.\u001b[0m\u001b[0m_getframe\u001b[0m\u001b[0;34m(\u001b[0m\u001b[0mstack_depth\u001b[0m\u001b[0;34m)\u001b[0m\u001b[0;34m.\u001b[0m\u001b[0mf_locals\u001b[0m\u001b[0;34m\u001b[0m\u001b[0;34m\u001b[0m\u001b[0m\n\u001b[1;32m   2313\u001b[0m             \u001b[0;32mwith\u001b[0m \u001b[0mself\u001b[0m\u001b[0;34m.\u001b[0m\u001b[0mbuiltin_trap\u001b[0m\u001b[0;34m:\u001b[0m\u001b[0;34m\u001b[0m\u001b[0;34m\u001b[0m\u001b[0m\n\u001b[0;32m-> 2314\u001b[0;31m                 \u001b[0mresult\u001b[0m \u001b[0;34m=\u001b[0m \u001b[0mfn\u001b[0m\u001b[0;34m(\u001b[0m\u001b[0;34m*\u001b[0m\u001b[0margs\u001b[0m\u001b[0;34m,\u001b[0m \u001b[0;34m**\u001b[0m\u001b[0mkwargs\u001b[0m\u001b[0;34m)\u001b[0m\u001b[0;34m\u001b[0m\u001b[0;34m\u001b[0m\u001b[0m\n\u001b[0m\u001b[1;32m   2315\u001b[0m             \u001b[0;32mreturn\u001b[0m \u001b[0mresult\u001b[0m\u001b[0;34m\u001b[0m\u001b[0;34m\u001b[0m\u001b[0m\n\u001b[1;32m   2316\u001b[0m \u001b[0;34m\u001b[0m\u001b[0m\n",
      "\u001b[0;32m</home/vinaykudari/anaconda3/lib/python3.7/site-packages/decorator.py:decorator-gen-64>\u001b[0m in \u001b[0;36mload_ext\u001b[0;34m(self, module_str)\u001b[0m\n",
      "\u001b[0;32m~/anaconda3/lib/python3.7/site-packages/IPython/core/magic.py\u001b[0m in \u001b[0;36m<lambda>\u001b[0;34m(f, *a, **k)\u001b[0m\n\u001b[1;32m    185\u001b[0m     \u001b[0;31m# but it's overkill for just that one bit of state.\u001b[0m\u001b[0;34m\u001b[0m\u001b[0;34m\u001b[0m\u001b[0;34m\u001b[0m\u001b[0m\n\u001b[1;32m    186\u001b[0m     \u001b[0;32mdef\u001b[0m \u001b[0mmagic_deco\u001b[0m\u001b[0;34m(\u001b[0m\u001b[0marg\u001b[0m\u001b[0;34m)\u001b[0m\u001b[0;34m:\u001b[0m\u001b[0;34m\u001b[0m\u001b[0;34m\u001b[0m\u001b[0m\n\u001b[0;32m--> 187\u001b[0;31m         \u001b[0mcall\u001b[0m \u001b[0;34m=\u001b[0m \u001b[0;32mlambda\u001b[0m \u001b[0mf\u001b[0m\u001b[0;34m,\u001b[0m \u001b[0;34m*\u001b[0m\u001b[0ma\u001b[0m\u001b[0;34m,\u001b[0m \u001b[0;34m**\u001b[0m\u001b[0mk\u001b[0m\u001b[0;34m:\u001b[0m \u001b[0mf\u001b[0m\u001b[0;34m(\u001b[0m\u001b[0;34m*\u001b[0m\u001b[0ma\u001b[0m\u001b[0;34m,\u001b[0m \u001b[0;34m**\u001b[0m\u001b[0mk\u001b[0m\u001b[0;34m)\u001b[0m\u001b[0;34m\u001b[0m\u001b[0;34m\u001b[0m\u001b[0m\n\u001b[0m\u001b[1;32m    188\u001b[0m \u001b[0;34m\u001b[0m\u001b[0m\n\u001b[1;32m    189\u001b[0m         \u001b[0;32mif\u001b[0m \u001b[0mcallable\u001b[0m\u001b[0;34m(\u001b[0m\u001b[0marg\u001b[0m\u001b[0;34m)\u001b[0m\u001b[0;34m:\u001b[0m\u001b[0;34m\u001b[0m\u001b[0;34m\u001b[0m\u001b[0m\n",
      "\u001b[0;32m~/anaconda3/lib/python3.7/site-packages/IPython/core/magics/extension.py\u001b[0m in \u001b[0;36mload_ext\u001b[0;34m(self, module_str)\u001b[0m\n\u001b[1;32m     31\u001b[0m         \u001b[0;32mif\u001b[0m \u001b[0;32mnot\u001b[0m \u001b[0mmodule_str\u001b[0m\u001b[0;34m:\u001b[0m\u001b[0;34m\u001b[0m\u001b[0;34m\u001b[0m\u001b[0m\n\u001b[1;32m     32\u001b[0m             \u001b[0;32mraise\u001b[0m \u001b[0mUsageError\u001b[0m\u001b[0;34m(\u001b[0m\u001b[0;34m'Missing module name.'\u001b[0m\u001b[0;34m)\u001b[0m\u001b[0;34m\u001b[0m\u001b[0;34m\u001b[0m\u001b[0m\n\u001b[0;32m---> 33\u001b[0;31m         \u001b[0mres\u001b[0m \u001b[0;34m=\u001b[0m \u001b[0mself\u001b[0m\u001b[0;34m.\u001b[0m\u001b[0mshell\u001b[0m\u001b[0;34m.\u001b[0m\u001b[0mextension_manager\u001b[0m\u001b[0;34m.\u001b[0m\u001b[0mload_extension\u001b[0m\u001b[0;34m(\u001b[0m\u001b[0mmodule_str\u001b[0m\u001b[0;34m)\u001b[0m\u001b[0;34m\u001b[0m\u001b[0;34m\u001b[0m\u001b[0m\n\u001b[0m\u001b[1;32m     34\u001b[0m \u001b[0;34m\u001b[0m\u001b[0m\n\u001b[1;32m     35\u001b[0m         \u001b[0;32mif\u001b[0m \u001b[0mres\u001b[0m \u001b[0;34m==\u001b[0m \u001b[0;34m'already loaded'\u001b[0m\u001b[0;34m:\u001b[0m\u001b[0;34m\u001b[0m\u001b[0;34m\u001b[0m\u001b[0m\n",
      "\u001b[0;32m~/anaconda3/lib/python3.7/site-packages/IPython/core/extensions.py\u001b[0m in \u001b[0;36mload_extension\u001b[0;34m(self, module_str)\u001b[0m\n\u001b[1;32m     78\u001b[0m             \u001b[0;32mif\u001b[0m \u001b[0mmodule_str\u001b[0m \u001b[0;32mnot\u001b[0m \u001b[0;32min\u001b[0m \u001b[0msys\u001b[0m\u001b[0;34m.\u001b[0m\u001b[0mmodules\u001b[0m\u001b[0;34m:\u001b[0m\u001b[0;34m\u001b[0m\u001b[0;34m\u001b[0m\u001b[0m\n\u001b[1;32m     79\u001b[0m                 \u001b[0;32mwith\u001b[0m \u001b[0mprepended_to_syspath\u001b[0m\u001b[0;34m(\u001b[0m\u001b[0mself\u001b[0m\u001b[0;34m.\u001b[0m\u001b[0mipython_extension_dir\u001b[0m\u001b[0;34m)\u001b[0m\u001b[0;34m:\u001b[0m\u001b[0;34m\u001b[0m\u001b[0;34m\u001b[0m\u001b[0m\n\u001b[0;32m---> 80\u001b[0;31m                     \u001b[0mmod\u001b[0m \u001b[0;34m=\u001b[0m \u001b[0mimport_module\u001b[0m\u001b[0;34m(\u001b[0m\u001b[0mmodule_str\u001b[0m\u001b[0;34m)\u001b[0m\u001b[0;34m\u001b[0m\u001b[0;34m\u001b[0m\u001b[0m\n\u001b[0m\u001b[1;32m     81\u001b[0m                     \u001b[0;32mif\u001b[0m \u001b[0mmod\u001b[0m\u001b[0;34m.\u001b[0m\u001b[0m__file__\u001b[0m\u001b[0;34m.\u001b[0m\u001b[0mstartswith\u001b[0m\u001b[0;34m(\u001b[0m\u001b[0mself\u001b[0m\u001b[0;34m.\u001b[0m\u001b[0mipython_extension_dir\u001b[0m\u001b[0;34m)\u001b[0m\u001b[0;34m:\u001b[0m\u001b[0;34m\u001b[0m\u001b[0;34m\u001b[0m\u001b[0m\n\u001b[1;32m     82\u001b[0m                         print((\"Loading extensions from {dir} is deprecated. \"\n",
      "\u001b[0;32m~/anaconda3/lib/python3.7/importlib/__init__.py\u001b[0m in \u001b[0;36mimport_module\u001b[0;34m(name, package)\u001b[0m\n\u001b[1;32m    125\u001b[0m                 \u001b[0;32mbreak\u001b[0m\u001b[0;34m\u001b[0m\u001b[0;34m\u001b[0m\u001b[0m\n\u001b[1;32m    126\u001b[0m             \u001b[0mlevel\u001b[0m \u001b[0;34m+=\u001b[0m \u001b[0;36m1\u001b[0m\u001b[0;34m\u001b[0m\u001b[0;34m\u001b[0m\u001b[0m\n\u001b[0;32m--> 127\u001b[0;31m     \u001b[0;32mreturn\u001b[0m \u001b[0m_bootstrap\u001b[0m\u001b[0;34m.\u001b[0m\u001b[0m_gcd_import\u001b[0m\u001b[0;34m(\u001b[0m\u001b[0mname\u001b[0m\u001b[0;34m[\u001b[0m\u001b[0mlevel\u001b[0m\u001b[0;34m:\u001b[0m\u001b[0;34m]\u001b[0m\u001b[0;34m,\u001b[0m \u001b[0mpackage\u001b[0m\u001b[0;34m,\u001b[0m \u001b[0mlevel\u001b[0m\u001b[0;34m)\u001b[0m\u001b[0;34m\u001b[0m\u001b[0;34m\u001b[0m\u001b[0m\n\u001b[0m\u001b[1;32m    128\u001b[0m \u001b[0;34m\u001b[0m\u001b[0m\n\u001b[1;32m    129\u001b[0m \u001b[0;34m\u001b[0m\u001b[0m\n",
      "\u001b[0;32m~/anaconda3/lib/python3.7/importlib/_bootstrap.py\u001b[0m in \u001b[0;36m_gcd_import\u001b[0;34m(name, package, level)\u001b[0m\n",
      "\u001b[0;32m~/anaconda3/lib/python3.7/importlib/_bootstrap.py\u001b[0m in \u001b[0;36m_find_and_load\u001b[0;34m(name, import_)\u001b[0m\n",
      "\u001b[0;32m~/anaconda3/lib/python3.7/importlib/_bootstrap.py\u001b[0m in \u001b[0;36m_find_and_load_unlocked\u001b[0;34m(name, import_)\u001b[0m\n",
      "\u001b[0;31mModuleNotFoundError\u001b[0m: No module named 'memory_profiler'"
     ]
    }
   ],
   "source": [
    "%load_ext memory_profiler\n",
    "%reload_ext memory_profiler\n",
    "import sys"
   ]
  },
  {
   "cell_type": "markdown",
   "metadata": {},
   "source": [
    "# fibonacci"
   ]
  },
  {
   "cell_type": "code",
   "execution_count": 45,
   "metadata": {},
   "outputs": [
    {
     "data": {
      "text/plain": [
       "[2, 3, 4]"
      ]
     },
     "execution_count": 45,
     "metadata": {},
     "output_type": "execute_result"
    }
   ],
   "source": [
    "list(range(2,5))"
   ]
  },
  {
   "cell_type": "code",
   "execution_count": 93,
   "metadata": {},
   "outputs": [],
   "source": [
    "# %%timeit \n",
    "# %memit\n",
    "def fibb(n):\n",
    "    if n<=1:\n",
    "        return lis[n]\n",
    "    else:\n",
    "        for i in range(1, n):\n",
    "            lis.append(lis[i-1] + lis[i])\n",
    "        return lis[n]"
   ]
  },
  {
   "cell_type": "code",
   "execution_count": 95,
   "metadata": {},
   "outputs": [
    {
     "data": {
      "text/plain": [
       "102334155"
      ]
     },
     "execution_count": 95,
     "metadata": {},
     "output_type": "execute_result"
    }
   ],
   "source": [
    "lis = [0, 1]\n",
    "fibb(40)"
   ]
  },
  {
   "cell_type": "code",
   "execution_count": 14,
   "metadata": {},
   "outputs": [
    {
     "name": "stdout",
     "output_type": "stream",
     "text": [
      "Wall time: 0 ns\n"
     ]
    }
   ],
   "source": [
    "%%time\n",
    "def fibb(n):\n",
    "    if n <= 1:\n",
    "        return n\n",
    "    else:\n",
    "        return fibb(n-1) + fibb(n-2)"
   ]
  },
  {
   "cell_type": "code",
   "execution_count": 32,
   "metadata": {},
   "outputs": [],
   "source": [
    "fib = fibb(20)"
   ]
  },
  {
   "cell_type": "markdown",
   "metadata": {},
   "source": [
    "# GCD"
   ]
  },
  {
   "cell_type": "code",
   "execution_count": 357,
   "metadata": {},
   "outputs": [],
   "source": [
    "def gcd(a, b):\n",
    "    if b>a:\n",
    "        a = a+b\n",
    "        b = a-b\n",
    "        a = a-b\n",
    "    elif a==b:\n",
    "        return a\n",
    "        \n",
    "    while b!=0:\n",
    "        r = a%b\n",
    "        a = b\n",
    "        b = r\n",
    "        \n",
    "    return a"
   ]
  },
  {
   "cell_type": "code",
   "execution_count": 363,
   "metadata": {},
   "outputs": [],
   "source": [
    "def lcm(a, b):\n",
    "    hcf = gcd(a,b)\n",
    "    return (a * b)/hcf"
   ]
  },
  {
   "cell_type": "code",
   "execution_count": 360,
   "metadata": {},
   "outputs": [
    {
     "data": {
      "text/plain": [
       "2"
      ]
     },
     "execution_count": 360,
     "metadata": {},
     "output_type": "execute_result"
    }
   ],
   "source": [
    "gcd(2,12)"
   ]
  },
  {
   "cell_type": "code",
   "execution_count": 364,
   "metadata": {},
   "outputs": [
    {
     "data": {
      "text/plain": [
       "100.0"
      ]
     },
     "execution_count": 364,
     "metadata": {},
     "output_type": "execute_result"
    }
   ],
   "source": [
    "lcm(10, 100)"
   ]
  },
  {
   "cell_type": "code",
   "execution_count": 365,
   "metadata": {},
   "outputs": [],
   "source": [
    "#Doubt\n",
    "def rec(name):\n",
    "    if len(name)==1:\n",
    "        return \"hello\"\n",
    "    rec(name[:-1])"
   ]
  },
  {
   "cell_type": "code",
   "execution_count": 269,
   "metadata": {},
   "outputs": [],
   "source": [
    "def fib(m):\n",
    "    lis = [0,1]\n",
    "    for i in range(1, m):\n",
    "        lis.append((lis[i]+lis[i-1]))\n",
    "    return lis[-1]"
   ]
  },
  {
   "cell_type": "code",
   "execution_count": 270,
   "metadata": {},
   "outputs": [
    {
     "data": {
      "text/plain": [
       "5"
      ]
     },
     "execution_count": 270,
     "metadata": {},
     "output_type": "execute_result"
    }
   ],
   "source": [
    "(fib(102) - 1)%10"
   ]
  },
  {
   "cell_type": "code",
   "execution_count": 176,
   "metadata": {},
   "outputs": [],
   "source": [
    "def fib_rep(n, m):\n",
    "    lis = [0, 1]\n",
    "    count, i = 0, 2\n",
    "    flag = True\n",
    "    while flag:\n",
    "        lis.append((lis[-1] + lis[-2])%m)\n",
    "        if lis[-1] == 0 and lis[-2] == 1:\n",
    "            count = count + 1\n",
    "        if count == 1:\n",
    "            flag = False\n",
    "        i = i+1\n",
    "    return lis[n % (i-1)]"
   ]
  },
  {
   "cell_type": "code",
   "execution_count": 86,
   "metadata": {},
   "outputs": [],
   "source": [
    "def fib_sum_last(n):\n",
    "    lis = [0, 1]\n",
    "    if n > 60:\n",
    "        n = (n%60) + 60\n",
    "    while n > 0:\n",
    "        lis.append(lis[-1]%10 + lis[-2]%10)\n",
    "        lis.remove(lis[0])\n",
    "        n = n-1\n",
    "    sum = (lis[-1]%10 + lis[-2]%10)%10\n",
    "    if sum == 0:\n",
    "        return 9\n",
    "    else:\n",
    "        return sum - 1"
   ]
  },
  {
   "cell_type": "code",
   "execution_count": 89,
   "metadata": {},
   "outputs": [],
   "source": [
    "def fib_last(n):\n",
    "    lis = [0, 1]\n",
    "    if n > 60:\n",
    "        n = (n%60) + 60\n",
    "    while n - 2 > 0:\n",
    "        lis.append(lis[-1]%10 + lis[-2]%10)\n",
    "        lis.remove(lis[0])\n",
    "        n = n-1\n",
    "    sum = (lis[-1]%10 + lis[-2]%10)%10\n",
    "    return sum"
   ]
  },
  {
   "cell_type": "code",
   "execution_count": 91,
   "metadata": {},
   "outputs": [
    {
     "data": {
      "text/plain": [
       "4"
      ]
     },
     "execution_count": 91,
     "metadata": {},
     "output_type": "execute_result"
    }
   ],
   "source": [
    "fib_last(9)"
   ]
  },
  {
   "cell_type": "code",
   "execution_count": 82,
   "metadata": {},
   "outputs": [
    {
     "data": {
      "text/plain": [
       "6"
      ]
     },
     "execution_count": 82,
     "metadata": {},
     "output_type": "execute_result"
    }
   ],
   "source": [
    "fib_sum_last(100)"
   ]
  },
  {
   "cell_type": "code",
   "execution_count": 88,
   "metadata": {},
   "outputs": [
    {
     "data": {
      "text/plain": [
       "-8"
      ]
     },
     "execution_count": 88,
     "metadata": {},
     "output_type": "execute_result"
    }
   ],
   "source": [
    "fib_sum_last(200) - fib_sum_last(9)"
   ]
  },
  {
   "cell_type": "code",
   "execution_count": 36,
   "metadata": {},
   "outputs": [
    {
     "data": {
      "text/plain": [
       "16"
      ]
     },
     "execution_count": 36,
     "metadata": {},
     "output_type": "execute_result"
    }
   ],
   "source": [
    "832564823476%60"
   ]
  },
  {
   "cell_type": "code",
   "execution_count": 3,
   "metadata": {},
   "outputs": [],
   "source": [
    "def fib_last_digit(n):\n",
    "    v1, v2, v3 = 1, 1, 0    # initialise a matrix [[1,1],[1,0]]\n",
    "    for rec in bin(n)[3:]:  # perform fast exponentiation of the matrix (quickly raise it to the nth power)\n",
    "        calc = (v2*v2) % 10\n",
    "        v1, v2, v3 = (v1*v1+calc) % 10, ((v1+v3)*v2) % 10, (calc+v3*v3) % 10\n",
    "        if rec == '1': v1, v2, v3 = (v1+v2) % 10, v1, v2\n",
    "    return v2"
   ]
  },
  {
   "cell_type": "code",
   "execution_count": 38,
   "metadata": {},
   "outputs": [
    {
     "data": {
      "text/plain": [
       "4"
      ]
     },
     "execution_count": 38,
     "metadata": {},
     "output_type": "execute_result"
    }
   ],
   "source": [
    "fib_last_digit(832564823478)"
   ]
  },
  {
   "cell_type": "code",
   "execution_count": 260,
   "metadata": {},
   "outputs": [],
   "source": [
    "def fib_sum_last(m):\n",
    "    s=1\n",
    "    if m==0:\n",
    "        return 0\n",
    "    a = 0\n",
    "    b = 1\n",
    "    for i in range(1, m):\n",
    "        temp = b%10\n",
    "        b = (a + b%10)\n",
    "        a = temp\n",
    "        s = (s + b)%10\n",
    "    return s"
   ]
  },
  {
   "cell_type": "code",
   "execution_count": 70,
   "metadata": {},
   "outputs": [
    {
     "name": "stdout",
     "output_type": "stream",
     "text": [
      "Best Val = [3.0, 2.0, 4.0]\n",
      "\n",
      "\n",
      "weights = [20, 50, 30]; vals = [60, 100, 120], added_vals = []\n",
      "weights = [20, 50]; vals = [60, 100], added_vals = [120]\n"
     ]
    },
    {
     "data": {
      "text/plain": [
       "[120, 60]"
      ]
     },
     "execution_count": 70,
     "metadata": {},
     "output_type": "execute_result"
    }
   ],
   "source": [
    "vals = [60, 100, 120]\n",
    "weights = [20, 50, 30]\n",
    "cap = 50\n",
    "pop_weight = 0\n",
    "best_vals = [vals[i]/weights[i] for i in range(len(vals))]\n",
    "temp = []\n",
    "print(\"Best Val = {}\".format(best_vals))\n",
    "print(\"\\n\")\n",
    "\n",
    "while len(best_vals) > 0 and cap > 0:\n",
    "    print(\"weights = {}; vals = {}, added_vals = {}\".format(str(weights), str(vals), str(temp)))\n",
    "    if len(best_vals) == 1:\n",
    "        index = 0\n",
    "    else:\n",
    "        index = best_vals.index(max(best_vals))\n",
    "        \n",
    "    if weights[index] <= cap:\n",
    "        temp.append(vals[index])\n",
    "        cap = cap - weights[index]\n",
    "        best_vals.pop(index)\n",
    "        pop_weight = weights.pop(index)\n",
    "        pop_val = vals.pop(index)\n",
    "    else:\n",
    "        temp.append((vals[index]/weights[index]) * cap)\n",
    "        cap = 0\n",
    "        \n",
    "temp"
   ]
  },
  {
   "cell_type": "code",
   "execution_count": 10,
   "metadata": {},
   "outputs": [
    {
     "name": "stdout",
     "output_type": "stream",
     "text": [
      "md = 200, i = 2, distance_travelled = 200, refuel = 1\n",
      "md = 200, i = 4, distance_travelled = 400, refuel = 2\n"
     ]
    },
    {
     "data": {
      "text/plain": [
       "-1"
      ]
     },
     "execution_count": 10,
     "metadata": {},
     "output_type": "execute_result"
    }
   ],
   "source": [
    "td = 500\n",
    "md = 200\n",
    "stops = [100, 200, 300, 400]\n",
    "\n",
    "i = 0 \n",
    "dist = 0\n",
    "count = 0\n",
    "\n",
    "\n",
    "\n",
    "def compute_min_refills(td, md, stops):\n",
    "    # write your code here\n",
    "    i = 0\n",
    "    dist = 0\n",
    "    count = 0\n",
    "    max_dist = md\n",
    "    \n",
    "    stops.append(td)\n",
    "\n",
    "    while dist <= td:\n",
    "        if td <= md:\n",
    "            return 0\n",
    "\n",
    "        while (dist + md) - stops[i] >= 0:\n",
    "            i = i+1\n",
    "            if i >= len(stops):\n",
    "                return -1\n",
    "\n",
    "        count = count + 1\n",
    "        md = max_dist\n",
    "        dist = dist + md\n",
    "        print(\"md = {}, i = {}, distance_travelled = {}, refuel = {}\".format(str(md), str(i), str(dist), str(count)))\n",
    "    return count\n",
    "\n",
    "compute_min_refills(td, md, stops)"
   ]
  },
  {
   "cell_type": "code",
   "execution_count": 118,
   "metadata": {},
   "outputs": [
    {
     "data": {
      "text/plain": [
       "-1"
      ]
     },
     "execution_count": 118,
     "metadata": {},
     "output_type": "execute_result"
    }
   ],
   "source": [
    "def compute_min_refills(td, max_distance, stops):\n",
    "    i = 0\n",
    "    dist_travelled = 0\n",
    "    count = 0\n",
    "    md = max_distance\n",
    "    flag = True\n",
    "    refuel = 0\n",
    "    stops.append(td)\n",
    "    \n",
    "    for i in range(len(stops)):\n",
    "        dist_travelled = stops[i]\n",
    "        distance_left = max_distance - dist_travelled\n",
    "        \n",
    "#         print(f\"stop = {stops[i]};  distance_left = {distance_left}; i = {i}\")\n",
    "        \n",
    "        if i < len(stops) - 1:\n",
    "        \n",
    "            if distance_left < stops[i+1] - stops[i]:\n",
    "                max_distance = stops[i] + md\n",
    "                refuel = refuel + 1\n",
    "#                 print(f\"refueled {refuel} time\")\n",
    "                if max_distance - dist_travelled < stops[i+1] - stops[i]:\n",
    "                    return -1\n",
    "    \n",
    "    return refuel\n",
    "    \n",
    "# compute_min_refills(500, 200, [100, 200, 300, 400])\n",
    "compute_min_refills(10, 3, [1, 2, 5, 9])"
   ]
  },
  {
   "cell_type": "code",
   "execution_count": 25,
   "metadata": {},
   "outputs": [
    {
     "data": {
      "text/plain": [
       "-1"
      ]
     },
     "execution_count": 25,
     "metadata": {},
     "output_type": "execute_result"
    }
   ],
   "source": [
    "def binary_search(a, x):\n",
    "    left, right = 0, len(a)\n",
    "    while right >= left: \n",
    "        mid = left + int((right - left)/2)\n",
    "        if mid >= len(a):\n",
    "            break\n",
    "            \n",
    "        if x < a[mid]:\n",
    "            right = mid -1\n",
    "        elif x > a[mid]:\n",
    "            left = mid + 1\n",
    "        elif x == a[mid]:\n",
    "            return mid\n",
    "        \n",
    "    return -1\n",
    "    \n",
    "    \n",
    "    \n",
    "a = [1, 2, 3, 4, 5]\n",
    "x = 6\n",
    "binary_search(a, x)"
   ]
  },
  {
   "cell_type": "code",
   "execution_count": 38,
   "metadata": {},
   "outputs": [
    {
     "data": {
      "text/plain": [
       "0"
      ]
     },
     "execution_count": 38,
     "metadata": {},
     "output_type": "execute_result"
    }
   ],
   "source": [
    "def get_majority_element(a, left, right):\n",
    "    dic = {}\n",
    "    for i in a:\n",
    "        if i in dic.keys():\n",
    "            dic[i] = dic[i] + 1\n",
    "        else:\n",
    "            dic[i] = 1\n",
    "    for key, value in dic.items():\n",
    "        if value >= int(len(a)/2) + 1:\n",
    "            return 1\n",
    "\n",
    "    return 0\n",
    "\n",
    "a = [512766168, 717383758, 5, 126144732, 5, 573799007, 5, 5, 5, 405079772]\n",
    "get_majority_element(a, '','')"
   ]
  },
  {
   "cell_type": "code",
   "execution_count": 82,
   "metadata": {},
   "outputs": [
    {
     "data": {
      "text/plain": [
       "[-90, 1, 2, 3, 5]"
      ]
     },
     "execution_count": 82,
     "metadata": {},
     "output_type": "execute_result"
    }
   ],
   "source": [
    "def selection_sort(lis):\n",
    "    min_index = 0\n",
    "    minm = lis[min_index]\n",
    "    \n",
    "    for index in range(len(lis)):\n",
    "        minm = lis[index]\n",
    "        for j in range(index+1, len(lis)):\n",
    "            if lis[j] < minm:\n",
    "                min_index = j\n",
    "                minm = lis[min_index]\n",
    "                \n",
    "                a = lis[index] \n",
    "                lis[index] = lis[min_index]\n",
    "                lis[min_index] = a \n",
    "            \n",
    "    return lis\n",
    "        \n",
    "selection_sort([5, -90, 3, 2, 1])"
   ]
  },
  {
   "cell_type": "code",
   "execution_count": 174,
   "metadata": {},
   "outputs": [],
   "source": [
    "def swap(lis, i, j):\n",
    "    a = lis[i]\n",
    "    lis[i] = lis[j]\n",
    "    lis[j] = a\n",
    "    return lis"
   ]
  },
  {
   "cell_type": "code",
   "execution_count": 242,
   "metadata": {},
   "outputs": [],
   "source": [
    "def partition(lis, f, l):\n",
    "    i = f-1\n",
    "    for j in range(f, l):\n",
    "        if lis[j] < lis[l]:\n",
    "            i = i + 1\n",
    "            swap(lis, i, j)\n",
    "            \n",
    "    swap(lis, i+1, l)\n",
    "    return i+1"
   ]
  },
  {
   "cell_type": "code",
   "execution_count": 257,
   "metadata": {},
   "outputs": [],
   "source": [
    "def partition3(lis, f, l):\n",
    "    i = f-1\n",
    "    pivot = 2\n",
    "    for j in range(f, l):\n",
    "        if lis[j] < lis[pivot]:\n",
    "            i = i + 1\n",
    "            swap(lis, i, j)\n",
    "            \n",
    "    swap(lis, i+1, l)\n",
    "    print(lis)\n",
    "    return i+1"
   ]
  },
  {
   "cell_type": "code",
   "execution_count": 258,
   "metadata": {},
   "outputs": [
    {
     "name": "stdout",
     "output_type": "stream",
     "text": [
      "[10, -80, 70, 30, 50, 50, 30]\n"
     ]
    },
    {
     "data": {
      "text/plain": [
       "2"
      ]
     },
     "execution_count": 258,
     "metadata": {},
     "output_type": "execute_result"
    }
   ],
   "source": [
    "l = [10, -80, 30, 30, 50, 50, 70]\n",
    "partition3(l, 0, 6)"
   ]
  },
  {
   "cell_type": "code",
   "execution_count": 255,
   "metadata": {},
   "outputs": [
    {
     "data": {
      "text/plain": [
       "[-80, 10, 30, 50, 50, 70, 90]"
      ]
     },
     "execution_count": 255,
     "metadata": {},
     "output_type": "execute_result"
    }
   ],
   "source": [
    "def quicksort(lis, f, l): \n",
    "    if f >= l:\n",
    "        return\n",
    "    \n",
    "    pivot = partition(lis, f, l)\n",
    "    quicksort(lis, f, pivot-1)\n",
    "    quicksort(lis, pivot+1, l)\n",
    "    \n",
    "    return lis\n",
    "\n",
    "l = [10, -80, 30, 90, 50, 50, 70]\n",
    "quicksort(l, 0, 6)"
   ]
  },
  {
   "cell_type": "code",
   "execution_count": 93,
   "metadata": {},
   "outputs": [
    {
     "data": {
      "text/plain": [
       "23"
      ]
     },
     "execution_count": 93,
     "metadata": {},
     "output_type": "execute_result"
    }
   ],
   "source": [
    "def max_dot_product(a, b):\n",
    "    #write your code here\n",
    "    a.sort()\n",
    "    b.sort()\n",
    "    res = 0\n",
    "    for i in range(len(a)):\n",
    "        res += a[i] * b[i]\n",
    "    return res\n",
    "\n",
    "a = [1, 3, -5]\n",
    "b = [-2, 4, 1]\n",
    "max_dot_product(a, b)"
   ]
  },
  {
   "cell_type": "code",
   "execution_count": 149,
   "metadata": {},
   "outputs": [
    {
     "data": {
      "text/plain": [
       "[1]"
      ]
     },
     "execution_count": 149,
     "metadata": {},
     "output_type": "execute_result"
    }
   ],
   "source": [
    "def optimal_summands(n):\n",
    "    summands = []\n",
    "    m = 1\n",
    "    while n - m > m:\n",
    "        summands.append(m)\n",
    "        n = n - m\n",
    "        m = m + 1\n",
    "              \n",
    "    if n>0:\n",
    "        summands.append(n)\n",
    "            \n",
    "    return list(set(summands))\n",
    "\n",
    "optimal_summands(1)"
   ]
  },
  {
   "cell_type": "code",
   "execution_count": 175,
   "metadata": {},
   "outputs": [
    {
     "data": {
      "text/plain": [
       "'993322'"
      ]
     },
     "execution_count": 175,
     "metadata": {},
     "output_type": "execute_result"
    }
   ],
   "source": [
    "def largest_number(a):\n",
    "    #write your code here\n",
    "    arr = [0]*10\n",
    "    res = \"\"\n",
    "    for x in a:\n",
    "        n = x\n",
    "        while n>0:\n",
    "            last = n%10\n",
    "            arr[last] = arr[last] + 1 \n",
    "            n = int(n/10)\n",
    "    for i in range(9, -1, -1):\n",
    "        res += str(i) * arr[i]\n",
    "    return res\n",
    "\n",
    "largest_number([23, 39, 92])"
   ]
  },
  {
   "cell_type": "code",
   "execution_count": 193,
   "metadata": {},
   "outputs": [
    {
     "data": {
      "text/plain": [
       "'-inf'"
      ]
     },
     "execution_count": 193,
     "metadata": {},
     "output_type": "execute_result"
    }
   ],
   "source": [
    "max = float('-inf')\n",
    "str(max)"
   ]
  },
  {
   "cell_type": "code",
   "execution_count": 220,
   "metadata": {},
   "outputs": [],
   "source": [
    "def get_max(a, b):\n",
    "    ab = a+b\n",
    "    ba = b+a\n",
    "    if int(ab) >= int(ba):\n",
    "        return a\n",
    "    elif int(ba) >= int(ab):\n",
    "        return b"
   ]
  },
  {
   "cell_type": "code",
   "execution_count": 206,
   "metadata": {},
   "outputs": [
    {
     "data": {
      "text/plain": [
       "'39'"
      ]
     },
     "execution_count": 206,
     "metadata": {},
     "output_type": "execute_result"
    }
   ],
   "source": [
    "get_max('381', '39')"
   ]
  },
  {
   "cell_type": "code",
   "execution_count": 212,
   "metadata": {},
   "outputs": [
    {
     "data": {
      "text/plain": [
       "99164"
      ]
     },
     "execution_count": 212,
     "metadata": {},
     "output_type": "execute_result"
    }
   ],
   "source": [
    "def largest_number(a):\n",
    "    max_lis = []\n",
    "    l = len(a)\n",
    "    while len(max_lis) < l:\n",
    "        max = float('-inf')\n",
    "        for i in a:\n",
    "            first_digit = int(str(i)[0])\n",
    "            if first_digit > max:\n",
    "                max_first_digit = first_digit\n",
    "                max_val = i\n",
    "            elif first_digit == max_first_digit:\n",
    "                val = i\n",
    "                max_val = get_max(str(val), str(max_val))\n",
    "                max_first_digit = int(max_val[0])\n",
    "            \n",
    "        max_lis.append(str(max_val))\n",
    "        a.remove(max_val)\n",
    "        \n",
    "    return int(''.join(max_lis))\n",
    "   \n",
    "largest_number([9, 4, 6, 1, 9])"
   ]
  },
  {
   "cell_type": "code",
   "execution_count": 219,
   "metadata": {},
   "outputs": [
    {
     "data": {
      "text/plain": [
       "923923"
      ]
     },
     "execution_count": 219,
     "metadata": {},
     "output_type": "execute_result"
    }
   ],
   "source": [
    "def largest_number(a):\n",
    "    max_lis = []\n",
    "    l = len(a)\n",
    "    while len(max_lis) < l:\n",
    "        max = str(a[0])\n",
    "        for i in a:\n",
    "            max = get_max(str(i), max)\n",
    "        max_lis.append(max)\n",
    "        a.remove(int(max))\n",
    "    return int(''.join(max_lis))\n",
    "\n",
    "largest_number([23, 39, 92])"
   ]
  },
  {
   "cell_type": "code",
   "execution_count": 227,
   "metadata": {},
   "outputs": [
    {
     "data": {
      "text/plain": [
       "{1, 2, 3, 4, 5, 6, 7}"
      ]
     },
     "execution_count": 227,
     "metadata": {},
     "output_type": "execute_result"
    }
   ],
   "source": [
    "a = set(range(4, 7+1))\n",
    "b = set(range(1, 3+1))\n",
    "c = set(range(2, 5+1))\n",
    "d = set(range(6, 6+1))\n",
    "\n",
    "a.union(b).union(c).union(d)"
   ]
  },
  {
   "cell_type": "code",
   "execution_count": 230,
   "metadata": {},
   "outputs": [
    {
     "data": {
      "text/plain": [
       "Segment(start=0, end=10)"
      ]
     },
     "execution_count": 230,
     "metadata": {},
     "output_type": "execute_result"
    }
   ],
   "source": [
    "from collections import namedtuple\n",
    "Segment = namedtuple('Segment', 'start end')\n",
    "Segment(0, 10)"
   ]
  },
  {
   "cell_type": "code",
   "execution_count": 253,
   "metadata": {},
   "outputs": [
    {
     "data": {
      "text/plain": [
       "[0, 1, 2, 3]"
      ]
     },
     "execution_count": 253,
     "metadata": {},
     "output_type": "execute_result"
    }
   ],
   "source": [
    "list(range(len([1,2,3,4])))"
   ]
  },
  {
   "cell_type": "code",
   "execution_count": 267,
   "metadata": {},
   "outputs": [
    {
     "data": {
      "text/plain": [
       "[3, 3]"
      ]
     },
     "execution_count": 267,
     "metadata": {},
     "output_type": "execute_result"
    }
   ],
   "source": [
    "def optimal_points(segments):\n",
    "    min=float('inf')\n",
    "    dic = {}\n",
    "    lis = []\n",
    "    segment_length = len(segments)\n",
    "    for segment in segments:\n",
    "        for i in range(segment.start, segment.end+1):\n",
    "            if i in dic.keys():\n",
    "                dic_len = len(dic[i])\n",
    "                if dic_len == 0:\n",
    "                    return i\n",
    "                if dic_len < min:\n",
    "                    min = dic_len\n",
    "                    min_key = i\n",
    "                if segments.index(segment) in dic[i]:\n",
    "                    dic[i].remove(segments.index(segment))\n",
    "            else:\n",
    "                dic[i] = list(range(len(segments)))\n",
    "                dic[i].remove(segments.index(segment))\n",
    "        \n",
    "    lis.append(min_key)\n",
    "    \n",
    "    for j in dic[min_key]:\n",
    "        lis.append(segments[j].end)\n",
    "    \n",
    "    return lis\n",
    "        \n",
    "\n",
    "optimal_points([Segment(1, 3), Segment(1, 3), Segment(2, 5), Segment(3, 6)])"
   ]
  },
  {
   "cell_type": "markdown",
   "metadata": {},
   "source": [
    "# Dynamic Programming"
   ]
  },
  {
   "cell_type": "code",
   "execution_count": 3,
   "metadata": {},
   "outputs": [
    {
     "name": "stdout",
     "output_type": "stream",
     "text": [
      "\n",
      "--------O/P-------\n",
      "\n",
      "[0, 1, 2, 3, 4, 5, 6, 7, 8, 9]\n",
      "[0, 1, 2, 3, 4, 5, 6, 7, 8, 9]\n",
      "[0, 1, 2, 1, 2, 3, 2, 3, 4, 3]\n",
      "[0, 1, 2, 1, 1, 2, 2, 2, 2, 3]\n",
      "[0, 1, 2, 1, 1, 2, 2, 2, 2, 1]\n",
      "\n",
      "Min no of coins = 1\n"
     ]
    }
   ],
   "source": [
    "def tprint(table):\n",
    "    for row in table:\n",
    "        print(row)\n",
    "        \n",
    "def money_change(change_amount, coin_set):\n",
    "    table = [[0 for j in range(change_amount+1)] for i in range(0, len(coin_set)+1)]\n",
    "    \n",
    "    # no of 1 rupee coins required to get corresponding changes\n",
    "    for i in range(change_amount+1): \n",
    "        table[0][i] = i\n",
    "        \n",
    "    for coin_index in range(1, len(coin_set)+1):\n",
    "        for amount in range(1, change_amount+1):\n",
    "            if coin_set[coin_index-1] == amount:\n",
    "                table[coin_index][amount] = 1\n",
    "                \n",
    "            if coin_set[coin_index-1] > amount:\n",
    "                table[coin_index][amount] = table[coin_index-1][amount] \n",
    "                \n",
    "            if coin_set[coin_index-1] < amount:\n",
    "                table[coin_index][amount] = min(table[coin_index-1][amount], 1+table[coin_index][amount - coin_set[coin_index-1]])\n",
    "    \n",
    "    return table\n",
    "\n",
    "\n",
    "table = money_change(9, [1, 3, 4, 9])\n",
    "print(\"\\n--------O/P-------\\n\")\n",
    "tprint(table)\n",
    "print(f\"\\nMin no of coins = {table[-1][-1]}\")"
   ]
  },
  {
   "cell_type": "code",
   "execution_count": 82,
   "metadata": {},
   "outputs": [
    {
     "name": "stdout",
     "output_type": "stream",
     "text": [
      "[0, 1, 1, 1, 2, 3, 2, 3, 3, 2, 3, 4, 3, 4, 4, 4, 4, 5, 3, 4, 4]\n",
      "[1, 2, 3, 4, 5, 6, 7, 8, 9, 10, 11, 12, 13, 14, 15, 16, 17, 18, 19, 20]\n"
     ]
    }
   ],
   "source": [
    "def optimal_sequence(n):\n",
    "    arr = [0]*(n+1)\n",
    "    seq = []\n",
    "    temp = []\n",
    "    \n",
    "    for i in range(1, n+1):\n",
    "        \n",
    "        if i == 1:\n",
    "            arr[i] = 1\n",
    "            seq.append('-1')\n",
    "        elif i == 2:\n",
    "            arr[i] = 1\n",
    "            seq.append('/2')\n",
    "        elif i == 3:\n",
    "            arr[i] = 1\n",
    "            seq.append('/3')\n",
    "        elif (i%2 == 0) and (i%3 == 0):\n",
    "            i2 = arr[i//2]\n",
    "            i3 = arr[i//3]\n",
    "            im = arr[i-1]\n",
    "            arr[i] = min(i2+1, i3+1, im+1)\n",
    "            if i2 < i3:\n",
    "                seq.append('/2')\n",
    "            elif i2 > i3:\n",
    "                seq.append('/3')\n",
    "            elif i2 != i3:\n",
    "                seq.append('-1')\n",
    "        elif i%3 == 0:\n",
    "            i3 = arr[i//3]; im = arr[i-1]\n",
    "            arr[i] = min(i3+1, im+1)\n",
    "            if i3 < im: seq.append('/3')\n",
    "            else: seq.append('1')\n",
    "        elif i%2 == 0:\n",
    "            i2 = arr[i//2]; im = arr[i-1]\n",
    "            arr[i] = min(i2+1, im+1)\n",
    "            if i2 < im: seq.append('/2')\n",
    "            else: seq.append('-1')\n",
    "        else:\n",
    "            im = arr[i-1]\n",
    "            seq.append('-1')\n",
    "            arr[i] = im + 1\n",
    "    \n",
    "    return arr\n",
    "\n",
    "print(optimal_sequence(20))\n",
    "print(list(range(1,21)))"
   ]
  },
  {
   "cell_type": "code",
   "execution_count": 10,
   "metadata": {},
   "outputs": [
    {
     "data": {
      "text/plain": [
       "[1, 2, 6, 7, 21, 22, 66, 198, 594, 1782, 5346, 16038, 16039, 32078, 96234]"
      ]
     },
     "execution_count": 10,
     "metadata": {},
     "output_type": "execute_result"
    }
   ],
   "source": [
    "def optimal_sequence(n):\n",
    "    arr = [0]*(n+1)\n",
    "    \n",
    "    if n==1:\n",
    "        return[1]\n",
    "    \n",
    "    arr[1] = 1\n",
    "    \n",
    "    seq = []\n",
    "    temp = {}\n",
    "    lis = [n]\n",
    "    head = n\n",
    "    \n",
    "    for i in range(2, n + 1):\n",
    "        if i < 4:\n",
    "            arr[i] = 1\n",
    "            temp[i] = 1\n",
    "        elif i % 2 == 0 and i % 3 != 0:\n",
    "            i2 = arr[i // 2]\n",
    "            im = arr[i - 1]\n",
    "            arr[i] = min(i2 + 1, im + 1)\n",
    "            if i2 < im:\n",
    "                temp[i] = i // 2\n",
    "            else:\n",
    "                temp[i] = i - 1\n",
    "        elif i % 3 == 0 and i % 2 != 0:\n",
    "            i3 = arr[i // 3]\n",
    "            im = arr[i - 1]\n",
    "            arr[i] = min(i3 + 1, im + 1)\n",
    "            if i3 < im:\n",
    "                temp[i] = i // 3\n",
    "            else:\n",
    "                temp[i] = i - 1\n",
    "        elif i % 3 != 0 and i % 2 != 0:\n",
    "            arr[i] = arr[i - 1] + 1\n",
    "            temp[i] = i - 1\n",
    "        else:\n",
    "            i2 = arr[i // 2]\n",
    "            i3 = arr[i // 3]\n",
    "            arr[i] = min(i2 + 1, i3 + 1)\n",
    "            if i2 < i3:\n",
    "                temp[i] = i // 2\n",
    "            else:\n",
    "                temp[i] = i // 3\n",
    "        \n",
    "    while head!= 1:\n",
    "        head = temp.get(head)\n",
    "        lis.append(head)\n",
    "        \n",
    "    return(reversed(lis))\n",
    "        \n",
    "\n",
    "# [list(optimal_sequence(i)) for i in range(100)]\n",
    "list(optimal_sequence(96234))"
   ]
  },
  {
   "cell_type": "code",
   "execution_count": 173,
   "metadata": {},
   "outputs": [
    {
     "data": {
      "text/plain": [
       "[1, 3]"
      ]
     },
     "execution_count": 173,
     "metadata": {},
     "output_type": "execute_result"
    }
   ],
   "source": [
    "def optimal_sequence(n):\n",
    "    count = [0] * (n + 1)\n",
    "    sequence = []\n",
    "    if n == 1:\n",
    "        sequence.append(1)\n",
    "        return sequence\n",
    "    else:\n",
    "        for i in range(2, n + 1):\n",
    "            if (i < 4):\n",
    "                count[i] = 1\n",
    "            elif (i % 2 == 0 and i % 3 != 0):\n",
    "                if (count[i // 2] < count[i - 1]):\n",
    "                    count[i] = count[i // 2] + 1\n",
    "                else:\n",
    "                    count[i] = count[i - 1] + 1\n",
    "            elif (i % 3 == 0 and i % 2 != 0):\n",
    "                if (count[i // 3] < count[i - 1]):\n",
    "                    count[i] = count[i // 3] + 1\n",
    "                else:\n",
    "                    count[i] = count[i - 1] + 1\n",
    "            elif (i % 3 != 0 and i % 2 != 0):\n",
    "                count[i] = count[i - 1] + 1\n",
    "            else:\n",
    "                if (count[i // 2] < count[i // 3]):\n",
    "                    count[i] = count[i // 2] + 1\n",
    "                else:\n",
    "                    count[i] = count[i // 3] + 1\n",
    "\n",
    "    while n > 0:\n",
    "        sequence.append(n)\n",
    "        if (n % 2 == 0 and n % 3 != 0):\n",
    "            if (count[n - 1] < count[n // 2]):\n",
    "                n = n - 1\n",
    "            else:\n",
    "                n = n // 2\n",
    "        elif (n % 2 != 0 and n % 3 == 0):\n",
    "            if (count[n - 1] < count[n // 3]):\n",
    "                n = n - 1\n",
    "            else:\n",
    "                n = n // 3\n",
    "        elif (n % 2 == 0 and n % 3 == 0):\n",
    "            n = n // 3  # need more cases here skiped hoping this want catch as a bug\n",
    "        elif (n % 2 != 0 and n % 3 != 0):\n",
    "            n = n - 1\n",
    "\n",
    "    return reversed(sequence)\n",
    "\n",
    "list(optimal_sequence(3))"
   ]
  },
  {
   "cell_type": "code",
   "execution_count": 162,
   "metadata": {},
   "outputs": [
    {
     "data": {
      "text/plain": [
       "0"
      ]
     },
     "execution_count": 162,
     "metadata": {},
     "output_type": "execute_result"
    }
   ],
   "source": [
    "def edit_distance(s, t):\n",
    "    table = [[0 for j in range(len(t)+1)] for i in range(len(s)+1)]\n",
    "    \n",
    "    for i in range(len(t)+1):\n",
    "        table[0][i] = i\n",
    "        \n",
    "    for j in range(len(s)+1):\n",
    "        table[j][0] = j\n",
    "        \n",
    "    for i in range(1, len(s)+1):\n",
    "        for j in range(1, len(t)+1):\n",
    "            if s[i-1] != t[j-1]:\n",
    "                table[i][j] = min(table[i][j-1]+1, table[i-1][j]+1, table[i-1][j-1]+1)\n",
    "            elif s[i-1] == t[j-1]:\n",
    "                table[i][j] = table[i-1][j-1]\n",
    "        \n",
    "        \n",
    "    return table[-1][-1]\n",
    "    \n",
    "edit_distance('ab', 'ab')"
   ]
  },
  {
   "cell_type": "code",
   "execution_count": 45,
   "metadata": {},
   "outputs": [
    {
     "name": "stdout",
     "output_type": "stream",
     "text": [
      "majority_element(arr, 0, 4, main)\n",
      "Fetching left_val\n",
      "majority_element(arr, 0, 2, left)\n",
      "Fetching left_val\n",
      "majority_element(arr, 0, 1, left)\n",
      "Fetching left_val\n",
      "majority_element(arr, 0, 0, left)\n",
      "left_index == right_index\n",
      "Got left_val:2, fetching right_val\n",
      "majority_element(arr, 1, 1, right)\n",
      "left_index == right_index\n",
      "Got left and right values : (2, 1)\n",
      "left_val != right_val so checking majority element in range(0, 1)\n",
      "left_count = 1, right_count = 1\n",
      "left_count (1) == right_count (1), so returning left_count/right_count\n",
      "Got left_val:2, fetching right_val\n",
      "majority_element(arr, 2, 2, right)\n",
      "left_index == right_index\n",
      "Got left and right values : (2, 9)\n",
      "left_val != right_val so checking majority element in range(0, 2)\n",
      "left_count = 1, right_count = 1\n",
      "left_count (1) == right_count (1), so returning left_count/right_count\n",
      "Got left_val:2, fetching right_val\n",
      "majority_element(arr, 3, 4, right)\n",
      "Fetching left_val\n",
      "majority_element(arr, 3, 3, left)\n",
      "left_index == right_index\n",
      "Got left_val:2, fetching right_val\n",
      "majority_element(arr, 4, 4, right)\n",
      "left_index == right_index\n",
      "Got left and right values : (2, 2)\n",
      "left_val == right_val so returning 2\n",
      "Got left and right values : (2, 2)\n",
      "left_val == right_val so returning 2\n"
     ]
    },
    {
     "data": {
      "text/plain": [
       "2"
      ]
     },
     "execution_count": 45,
     "metadata": {},
     "output_type": "execute_result"
    }
   ],
   "source": [
    "def majority_element(arr, left_index, right_index, temp):\n",
    "    print(f'majority_element(arr, {left_index}, {right_index}, {temp})')\n",
    "    if left_index == right_index:\n",
    "        print('left_index == right_index')\n",
    "        return arr[left_index]\n",
    "    \n",
    "    mid_index = left_index + (right_index - left_index)//2 \n",
    "    print('Fetching left_val')\n",
    "    left_val = majority_element(arr, left_index, mid_index, 'left')\n",
    "    print(f'Got left_val:{left_val}, fetching right_val')\n",
    "    right_val = majority_element(arr, mid_index+1, right_index, 'right')\n",
    "    \n",
    "    print(f'Got left and right values : ({left_val}, {right_val})')\n",
    "    \n",
    "    if left_val == right_val:\n",
    "        print(f'left_val == right_val so returning {left_val}')\n",
    "        return left_val\n",
    "    \n",
    "    print(f'left_val != right_val so checking majority element in range({left_index}, {right_index})')\n",
    "    left_count = sum([1 for i in range(left_index, right_index+1) if arr[i] == left_val])\n",
    "    right_count = sum([1 for i in range(left_index, right_index+1) if arr[i] == right_val])\n",
    "    print(f'left_count = {left_count}, right_count = {right_count}')\n",
    "    \n",
    "    if left_count > right_count:\n",
    "        print(f'left_count ({left_count}) > right_count ({right_count}) so returning left_count')\n",
    "        return left_val\n",
    "    if left_count < right_count:\n",
    "        print(f'left_count ({left_count}) < right_count ({right_count}) so returning right_count')\n",
    "        return right_val\n",
    "    if left_count == right_count:\n",
    "        print(f'left_count ({left_count}) == right_count ({right_count}), so returning left_count/right_count')\n",
    "        return left_val\n",
    "    \n",
    "    \n",
    "arr = [2, 1, 9, 2, 2]\n",
    "majority_element(arr, 0, len(arr)-1, 'main')"
   ]
  },
  {
   "cell_type": "code",
   "execution_count": 113,
   "metadata": {},
   "outputs": [
    {
     "name": "stdout",
     "output_type": "stream",
     "text": [
      "sorting entire partition of arr = [10, 5, 2, 1, 3, 90] | left_index = 0, right_index = 5\n",
      "\n",
      "Fetching partition: \n",
      "arr = [10, 5, 2, 1, 3, 90]\n",
      "returning pivot index(4)\n",
      "Got partition(4), arr = [3, 5, 2, 1, 10, 90] \n",
      "\n",
      "sorting left partition of arr = [3, 5, 2, 1, 10, 90] | left_index = 0, right_index = 3\n",
      "\n",
      "Fetching partition: \n",
      "arr = [2, 5, 3, 1, 10, 90]\n",
      "returning pivot index(1)\n",
      "Got partition(1), arr = [1, 2, 3, 5, 10, 90] \n",
      "\n",
      "sorting left partition of arr = [1, 2, 3, 5, 10, 90] | left_index = 0, right_index = 0\n",
      "sorting right partition of arr = [1, 2, 3, 5, 10, 90] | left_index = 2, right_index = 3\n",
      "\n",
      "Fetching partition: \n",
      "arr = [1, 2, 3, 5, 10, 90]\n",
      "returning pivot index(2)\n",
      "Got partition(2), arr = [1, 2, 3, 5, 10, 90] \n",
      "\n",
      "sorting left partition of arr = [1, 2, 3, 5, 10, 90] | left_index = 2, right_index = 1\n",
      "sorting right partition of arr = [1, 2, 3, 5, 10, 90] | left_index = 3, right_index = 3\n",
      "sorting right partition of arr = [1, 2, 3, 5, 10, 90] | left_index = 5, right_index = 5\n"
     ]
    }
   ],
   "source": [
    "from random import randrange\n",
    "\n",
    "def swap(arr, i, j):\n",
    "    temp = arr[i]\n",
    "    arr[i] = arr[j]\n",
    "    arr[j] = temp\n",
    "    \n",
    "def partition(arr, left_index, right_index):\n",
    "    print(f'arr = {arr}')\n",
    "    pivot_element = arr[left_index]\n",
    "    j = left_index\n",
    "    for i in range(left_index+1, right_index+1):\n",
    "        if arr[i] <= pivot_element:\n",
    "            j = j + 1\n",
    "            swap(arr, i, j)\n",
    "    swap(arr, left_index, j)\n",
    "    print(f'returning pivot index({j})')\n",
    "    return arr, j\n",
    "\n",
    "def quick_sort(arr, left_index, right_index, temp):\n",
    "    print(f'sorting {temp} partition of arr = {arr} | left_index = {left_index}, right_index = {right_index}')\n",
    "    if left_index < right_index:\n",
    "        rand_num = randrange(left_index, right_index)\n",
    "        swap(arr, left_index, rand_num)\n",
    "        print(\"\\nFetching partition: \")\n",
    "        arr, partition_index = partition(arr, left_index, right_index)\n",
    "        print(f'Got partition({partition_index}), arr = {arr} \\n')\n",
    "        quick_sort(arr, left_index, partition_index-1, 'left')\n",
    "        quick_sort(arr, partition_index+1, right_index, 'right')\n",
    "\n",
    "arr = [10, 5, 2, 1, 3, 90]\n",
    "quick_sort(arr, 0, 5, 'entire')"
   ]
  },
  {
   "cell_type": "code",
   "execution_count": 81,
   "metadata": {},
   "outputs": [
    {
     "data": {
      "text/plain": [
       "[2, 2, 9, 3, 9]"
      ]
     },
     "execution_count": 81,
     "metadata": {},
     "output_type": "execute_result"
    }
   ],
   "source": [
    "import random \n",
    "\n",
    "def swap(arr, i, j):\n",
    "    arr[i], arr[j] = arr[j], arr[i]\n",
    "\n",
    "\n",
    "def partition3(arr, left_index, right_index):\n",
    "    pivot_element = arr[left_index]\n",
    "    j = left_index;\n",
    "    count = 0\n",
    "    for i in range(left_index + 1, right_index + 1):\n",
    "        if arr[i] <= pivot_element:\n",
    "            if arr[i] == pivot_element:\n",
    "                count = count + 1\n",
    "            j = j + 1\n",
    "            swap(arr, i, j)\n",
    "\n",
    "    swap(arr, left_index, j)\n",
    "    return  (j-count), j\n",
    "\n",
    "\n",
    "def randomized_quick_sort(a, l, r):\n",
    "    if l >= r:\n",
    "        return\n",
    "    k = random.randint(l, r)\n",
    "    a[l], a[k] = a[k], a[l]\n",
    "    #use partition3\n",
    "    partition_index_l, partition_index_r = partition3(a, l, r)\n",
    "    randomized_quick_sort(arr, l, partition_index_l - 1)\n",
    "    randomized_quick_sort(arr, partition_index_r + 1, r)\n",
    "        \n",
    "\n",
    "arr = [2, 3, 9, 2, 9]\n",
    "randomized_quick_sort(arr, 0, 4)\n",
    "arr"
   ]
  },
  {
   "cell_type": "code",
   "execution_count": 82,
   "metadata": {},
   "outputs": [],
   "source": [
    "def partition3(arr, left_index, right_index):\n",
    "    pivot_element = arr[left_index]\n",
    "    j = left_index\n",
    "    count = 0\n",
    "    for i in range(left_index + 1, right_index + 1):\n",
    "        t = arr[i]\n",
    "        if t < pivot_element:\n",
    "            j = j + 1\n",
    "            arr[i], arr[j] = arr[j], arr[i]\n",
    "        elif t == pivot_element:\n",
    "            j = j + 1\n",
    "            count = count + 1\n",
    "            arr[i], arr[j] = arr[j], arr[i]\n",
    "        \n",
    "    arr[left_index], arr[j] = arr[j], arr[left_index]\n",
    "    return  (j - count), j\n",
    "\n",
    "def partition3f(a, left, right):\n",
    "    x = a[left]\n",
    "    lt = left\n",
    "    gt = right\n",
    "    i = left\n",
    "    while i <= gt:\n",
    "        if a[i] < x:\n",
    "            a[i], a[lt] = a[lt], a[i]\n",
    "            lt += 1\n",
    "            i += 1\n",
    "        elif a[i] > x:\n",
    "            a[i], a[gt] = a[gt], a[i]\n",
    "            gt -= 1\n",
    "        else:\n",
    "            i += 1\n",
    "    return lt, gt"
   ]
  },
  {
   "cell_type": "code",
   "execution_count": 121,
   "metadata": {},
   "outputs": [
    {
     "name": "stdout",
     "output_type": "stream",
     "text": [
      "merge_sort([2, 3, 9, 2, 9]. 0. 4, main)\n",
      "merge_sort([2, 3, 9, 2, 9]. 0. 2, left)\n",
      "merge_sort([2, 3, 9, 2, 9]. 0. 1, left)\n",
      "merge_sort([2, 3, 9, 2, 9]. 0. 0, left)\n",
      "l = [2]\n",
      "merge_sort([2, 3, 9, 2, 9]. 1. 1, right)\n",
      "r = [3]\n",
      "merge([2]. [3])\n",
      "l = [2, 3]\n",
      "merge_sort([2, 3, 9, 2, 9]. 2. 2, right)\n",
      "r = [9]\n",
      "merge([2, 3]. [9])\n",
      "l = [2, 3, 9]\n",
      "merge_sort([2, 3, 9, 2, 9]. 3. 4, right)\n",
      "merge_sort([2, 3, 9, 2, 9]. 3. 3, left)\n",
      "l = [2]\n",
      "merge_sort([2, 3, 9, 2, 9]. 4. 4, right)\n",
      "r = [9]\n",
      "merge([2]. [9])\n",
      "r = [2, 9]\n",
      "merge([2, 3, 9]. [2, 9])\n"
     ]
    },
    {
     "data": {
      "text/plain": [
       "[2, 2, 3, 9, 9]"
      ]
     },
     "execution_count": 121,
     "metadata": {},
     "output_type": "execute_result"
    }
   ],
   "source": [
    "def merge(l1, l2):\n",
    "    print(f'merge({l1}. {l2})')\n",
    "    merged_lis = []\n",
    "    n1 = len(l1)\n",
    "    n2 = len(l2)\n",
    "    \n",
    "    i = 0; j = 0\n",
    "    while (i < n1) and (j < n2):\n",
    "        if l1[i] <= l2[j]:\n",
    "            merged_lis.append(l1[i])\n",
    "            i = i + 1\n",
    "        else:\n",
    "            merged_lis.append(l2[j])\n",
    "            j = j + 1\n",
    "    \n",
    "    for k in range(i, n1):\n",
    "        merged_lis.append(l1[k])\n",
    "\n",
    "    for k in range(j, n2):\n",
    "        merged_lis.append(l2[k])\n",
    "            \n",
    "    return merged_lis\n",
    "\n",
    "def merge_sort(arr, l, r, temp):\n",
    "    print(f'merge_sort({arr}. {l}. {r}, {temp})')\n",
    "    if l == r:\n",
    "        return arr[l:r+1]\n",
    "    \n",
    "    if l < r:\n",
    "        mid = l + (r-l)//2\n",
    "        l = merge_sort(arr, l, mid, 'left')\n",
    "        print(f'l = {l}')\n",
    "        r = merge_sort(arr, mid+1, r, 'right')\n",
    "        print(f'r = {r}')\n",
    "        s = merge(l, r)\n",
    "        \n",
    "        return s\n",
    "    \n",
    "arr = [2, 3, 9, 2, 9]\n",
    "merge_sort(arr, 0, 4, 'main')"
   ]
  },
  {
   "cell_type": "code",
   "execution_count": 148,
   "metadata": {},
   "outputs": [
    {
     "name": "stdout",
     "output_type": "stream",
     "text": [
      "Finding max value for w = 2\n",
      "checking if 0 in arr\n",
      "cannot traverse to 2 from 2\n",
      "checking if 1 in arr\n",
      "cannot traverse to 2 from 1\n",
      "checking if 2 in arr\n",
      "value of weight 0 is 9\n",
      "9\n",
      "Finding max value for w = 3\n",
      "checking if 0 in arr\n",
      "cannot traverse to 3 from 3\n",
      "checking if 1 in arr\n",
      "cannot traverse to 3 from 2\n",
      "checking if 2 in arr\n",
      "value of weight 1 is 9\n",
      "9\n",
      "checking if 3 in arr\n",
      "value of weight 0 is 14\n",
      "14\n",
      "Finding max value for w = 4\n",
      "checking if 0 in arr\n",
      "cannot traverse to 4 from 4\n",
      "checking if 1 in arr\n",
      "cannot traverse to 4 from 3\n",
      "checking if 2 in arr\n",
      "value of weight 2 is 9\n",
      "18\n",
      "checking if 3 in arr\n",
      "value of weight 1 is 14\n",
      "14\n",
      "checking if 4 in arr\n",
      "value of weight 0 is 16\n",
      "16\n",
      "Finding max value for w = 5\n",
      "checking if 0 in arr\n",
      "cannot traverse to 5 from 5\n",
      "checking if 1 in arr\n",
      "cannot traverse to 5 from 4\n",
      "checking if 2 in arr\n",
      "value of weight 3 is 9\n",
      "23\n",
      "checking if 3 in arr\n",
      "value of weight 2 is 14\n",
      "23\n",
      "checking if 4 in arr\n",
      "value of weight 1 is 16\n",
      "16\n",
      "checking if 5 in arr\n",
      "cannot traverse to 5 from 0\n",
      "Finding max value for w = 6\n",
      "checking if 0 in arr\n",
      "cannot traverse to 6 from 6\n",
      "checking if 1 in arr\n",
      "cannot traverse to 6 from 5\n",
      "checking if 2 in arr\n",
      "value of weight 4 is 9\n",
      "27\n",
      "checking if 3 in arr\n",
      "value of weight 3 is 14\n",
      "28\n",
      "checking if 4 in arr\n",
      "value of weight 2 is 16\n",
      "25\n",
      "checking if 5 in arr\n",
      "cannot traverse to 6 from 1\n",
      "checking if 6 in arr\n",
      "value of weight 0 is 30\n",
      "30\n",
      "Finding max value for w = 7\n",
      "checking if 0 in arr\n",
      "cannot traverse to 7 from 7\n",
      "checking if 1 in arr\n",
      "cannot traverse to 7 from 6\n",
      "checking if 2 in arr\n",
      "value of weight 5 is 9\n",
      "32\n",
      "checking if 3 in arr\n",
      "value of weight 4 is 14\n",
      "32\n",
      "checking if 4 in arr\n",
      "value of weight 3 is 16\n",
      "30\n",
      "checking if 5 in arr\n",
      "cannot traverse to 7 from 2\n",
      "checking if 6 in arr\n",
      "value of weight 1 is 30\n",
      "30\n",
      "checking if 7 in arr\n",
      "cannot traverse to 7 from 0\n",
      "Finding max value for w = 8\n",
      "checking if 0 in arr\n",
      "cannot traverse to 8 from 8\n",
      "checking if 1 in arr\n",
      "cannot traverse to 8 from 7\n",
      "checking if 2 in arr\n",
      "value of weight 6 is 9\n",
      "39\n",
      "checking if 3 in arr\n",
      "value of weight 5 is 14\n",
      "37\n",
      "checking if 4 in arr\n",
      "value of weight 4 is 16\n",
      "34\n",
      "checking if 5 in arr\n",
      "cannot traverse to 8 from 3\n",
      "checking if 6 in arr\n",
      "value of weight 2 is 30\n",
      "39\n",
      "checking if 7 in arr\n",
      "cannot traverse to 8 from 1\n",
      "checking if 8 in arr\n",
      "cannot traverse to 8 from 0\n",
      "Finding max value for w = 9\n",
      "checking if 0 in arr\n",
      "cannot traverse to 9 from 9\n",
      "checking if 1 in arr\n",
      "cannot traverse to 9 from 8\n",
      "checking if 2 in arr\n",
      "value of weight 7 is 9\n",
      "41\n",
      "checking if 3 in arr\n",
      "value of weight 6 is 14\n",
      "44\n",
      "checking if 4 in arr\n",
      "value of weight 5 is 16\n",
      "39\n",
      "checking if 5 in arr\n",
      "cannot traverse to 9 from 4\n",
      "checking if 6 in arr\n",
      "value of weight 3 is 30\n",
      "44\n",
      "checking if 7 in arr\n",
      "cannot traverse to 9 from 2\n",
      "checking if 8 in arr\n",
      "cannot traverse to 9 from 1\n",
      "checking if 9 in arr\n",
      "cannot traverse to 9 from 0\n",
      "Finding max value for w = 10\n",
      "checking if 0 in arr\n",
      "cannot traverse to 10 from 10\n",
      "checking if 1 in arr\n",
      "cannot traverse to 10 from 9\n",
      "checking if 2 in arr\n",
      "value of weight 8 is 9\n",
      "48\n",
      "checking if 3 in arr\n",
      "value of weight 7 is 14\n",
      "46\n",
      "checking if 4 in arr\n",
      "value of weight 6 is 16\n",
      "46\n",
      "checking if 5 in arr\n",
      "cannot traverse to 10 from 5\n",
      "checking if 6 in arr\n",
      "value of weight 4 is 30\n",
      "48\n",
      "checking if 7 in arr\n",
      "cannot traverse to 10 from 3\n",
      "checking if 8 in arr\n",
      "cannot traverse to 10 from 2\n",
      "checking if 9 in arr\n",
      "cannot traverse to 10 from 1\n",
      "checking if 10 in arr\n",
      "cannot traverse to 10 from 0\n"
     ]
    },
    {
     "data": {
      "text/plain": [
       "[0, 0, 9, 14, 18, 23, 30, 32, 39, 44, 48]"
      ]
     },
     "execution_count": 148,
     "metadata": {},
     "output_type": "execute_result"
    }
   ],
   "source": [
    "def knapsack_dp(W, weights, values):\n",
    "    arr = [0]*(W+1)\n",
    "    max_val = float('-inf')\n",
    "    for i in range(2, len(arr)):\n",
    "        print(f'Finding max value for w = {i}')\n",
    "        for j in range(0, i+1):\n",
    "            print(f'checking if {j} in arr')\n",
    "            if j in weights:\n",
    "                print(f'value of weight {i-j} is {values[weights.index(j)]}')\n",
    "                val = arr[i-j] + values[weights.index(j)]\n",
    "                print(val)\n",
    "                if val > max_val:\n",
    "                    max_val  = val\n",
    "            else:\n",
    "                print(f'cannot traverse to {i} from {i-j}')\n",
    "        arr[i] = max_val\n",
    "    return arr\n",
    "\n",
    "weights = [2, 3, 4, 6]\n",
    "values = [9, 14, 16, 30]\n",
    "knapsack_dp(10, weights, values)"
   ]
  },
  {
   "cell_type": "code",
   "execution_count": 403,
   "metadata": {},
   "outputs": [],
   "source": [
    "# knapsack without rep\n",
    "def tprint(table):\n",
    "    for row in table:\n",
    "        print(row)\n",
    "\n",
    "def optimal_weight(W, weights):\n",
    "    table = [[0 for v in range(W+1)] for w in range(len(weights)+1)]\n",
    "    \n",
    "    for w in range(1, len(weights)+1):\n",
    "        for v in range(W+1):\n",
    "            if v < weights[w-1]:\n",
    "                table[w][v] = table[w-1][v] \n",
    "            else:\n",
    "                table[w][v] = max(table[w-1][v], (weights[w-1]) + table[w-1][v - weights[w-1]])\n",
    "    \n",
    "    return table\n",
    "    \n",
    "\n",
    "w = [1, 2, 3, 4, 5, 5, 7, 7, 8, 10, 12, 19, 25]\n",
    "# w = [int(i) for i in '3 3 3 3 3 3'.split(\" \")]\n",
    "S = int(sum(w)/3)\n",
    "table = optimal_weight(S, w)"
   ]
  },
  {
   "cell_type": "code",
   "execution_count": 404,
   "metadata": {},
   "outputs": [],
   "source": [
    "w = [int(i) for i in '17 59 34 57 17 23 67 1 18 2 59'.split(\" \")]\n",
    "S = int(sum(w)/3)\n",
    "table = optimal_weight(S, w)\n",
    "\n",
    "def trace_back(w, sum_lst, table):\n",
    "#     tprint(table)\n",
    "#     print(\"\\n\")\n",
    "\n",
    "    rlen = len(table)\n",
    "    clen = len(table[0]) - 1\n",
    "    selected_vals = []\n",
    "    \n",
    "    temp = float('inf')\n",
    "    \n",
    "    for i in reversed(range(rlen)):\n",
    "        if i > temp:\n",
    "            print(f'i = {i} hence skipping')\n",
    "            continue\n",
    "        \n",
    "#         print(f'i = {i}')\n",
    "        sum_lst_index = clen\n",
    "        while table[i][clen] == table[i-1][clen]:\n",
    "            i = i - 1\n",
    "            print(f'i = {i}')\n",
    "            if i < 0 :\n",
    "                return selected_vals\n",
    "            \n",
    "        print(f'change detected i = {i}')\n",
    "        selected_val = w[i-1]\n",
    "        print(f'selected_val = {selected_val}, sum_lst_val = {sum_lst[sum_lst_index]}')\n",
    "        selected_vals.append(selected_val)\n",
    "        clen = sum_lst[sum_lst_index] - selected_val\n",
    "        temp = i\n",
    "        print(f'i = {i}, clen = {clen}')\n",
    "\n",
    "        if (i == 0) or (clen==0):\n",
    "            break\n",
    "    \n",
    "    return selected_vals\n",
    "    \n",
    "sum_lst = list(range(S+1))\n",
    "# trace_back(w, sum_lst, table)"
   ]
  },
  {
   "cell_type": "code",
   "execution_count": 405,
   "metadata": {},
   "outputs": [
    {
     "name": "stdout",
     "output_type": "stream",
     "text": [
      "w = [3, 3, 3, 3] \n",
      "\n",
      "i = 3\n",
      "i = 2\n",
      "i = 1\n",
      "change detected i = 1\n",
      "selected_val = 3, sum_lst_val = 4\n",
      "i = 1, clen = 1\n",
      "i = 3 hence skipping\n",
      "i = 2 hence skipping\n",
      "i = 0\n",
      "i = -1\n",
      "selected_elements = [3] sum = 3 \n",
      "\n",
      "------------------------------------------------------------\n"
     ]
    },
    {
     "data": {
      "text/plain": [
       "0"
      ]
     },
     "execution_count": 405,
     "metadata": {},
     "output_type": "execute_result"
    }
   ],
   "source": [
    "def partition3(w):\n",
    "    sum_w = sum(w)\n",
    "    S = int(sum_w/3)\n",
    "    temp = sum_w\n",
    "    \n",
    "    sum_lst = list(range(S+1))\n",
    "    count = 0\n",
    "    \n",
    "    if (sum_w%3 != 0) or len(w) < 3:\n",
    "        return 0\n",
    "    \n",
    "    for i in range(3):\n",
    "        print(f'w = {w} \\n')\n",
    "        table = optimal_weight(S, w)\n",
    "        selected_elements = trace_back(w, sum_lst, table)\n",
    "        sum_selected = sum(selected_elements)\n",
    "        print(f'selected_elements = {selected_elements} sum = {sum_selected} \\n')\n",
    "        print(\"------------------------------------------------------------\")\n",
    "        \n",
    "        if sum_selected == S:\n",
    "            temp = temp - sum_selected\n",
    "        else:\n",
    "            return 0\n",
    "\n",
    "        for element in selected_elements:\n",
    "            w.remove(element)\n",
    "    \n",
    "    if temp == 0:\n",
    "        return 1\n",
    "    else:\n",
    "        return 0\n",
    "    \n",
    "#     print(f'count = {count}')\n",
    "    \n",
    "\n",
    "w = [int(i) for i in '3 3 3 3'.split(\" \")]\n",
    "partition3(w)"
   ]
  },
  {
   "cell_type": "code",
   "execution_count": 12,
   "metadata": {},
   "outputs": [
    {
     "data": {
      "text/plain": [
       "[5, 1]"
      ]
     },
     "execution_count": 12,
     "metadata": {},
     "output_type": "execute_result"
    }
   ],
   "source": [
    "from collections import namedtuple\n",
    "Segment = namedtuple('Segment', 'start end')\n",
    "\n",
    "\n",
    "def optimal_points(segments):\n",
    "    segments.sort(key = lambda x: x[1], reverse=True)\n",
    "    points = []\n",
    "    for i in range(len(segments)):\n",
    "        if not points:\n",
    "            points.append(segments[i].start)\n",
    "        elif segments[i].start > points[-1]:\n",
    "            points[-1] = segments[i].start\n",
    "        elif segments[i].end < points[-1]:\n",
    "            points.append(segments[i].start)\n",
    "        \n",
    "    return points\n",
    "\n",
    "optimal_points([Segment(1, 3), Segment(4, 7), Segment(2, 5), Segment(5, 6)])"
   ]
  },
  {
   "cell_type": "code",
   "execution_count": 65,
   "metadata": {},
   "outputs": [
    {
     "name": "stdout",
     "output_type": "stream",
     "text": [
      "lenl = 1, lenr = 1\n",
      "1 0\n",
      "l = [2]; r = [3]; merged list = [2, 3]\n",
      "lenl = 2, lenr = 1\n",
      "1 0\n",
      "2 0\n",
      "l = [2, 3]; r = [9]; merged list = [2, 3, 9]\n",
      "lenl = 1, lenr = 1\n",
      "1 0\n",
      "l = [2]; r = [9]; merged list = [2, 9]\n",
      "lenl = 2, lenr = 0\n",
      "l = [2, 9]; r = []; merged list = [2, 9]\n",
      "lenl = 3, lenr = 2\n",
      "1 0\n",
      "1 1\n",
      "2 1\n",
      "3 1\n",
      "l = [2, 3, 9]; r = [2, 9]; merged list = [2, 2, 3, 9, 9]\n",
      "inversions\n"
     ]
    },
    {
     "data": {
      "text/plain": [
       "2"
      ]
     },
     "execution_count": 65,
     "metadata": {},
     "output_type": "execute_result"
    }
   ],
   "source": [
    "def no_of_inversions(l, r):\n",
    "    global inversions\n",
    "    lenl = len(l); lenr = len(r)\n",
    "    i = 0; j = 0; mergedList = []\n",
    "    print(f'lenl = {lenl}, lenr = {lenr}')\n",
    "    while i < lenl and j < lenr:\n",
    "        if l[i] <= r[j]:\n",
    "            mergedList.append(l[i])\n",
    "            i += 1\n",
    "        elif r[j] < l[i]:\n",
    "            mergedList.append(r[j])\n",
    "            j += 1\n",
    "            inversions += lenl - i\n",
    "            \n",
    "        print(i, j)\n",
    "        \n",
    "        \n",
    "    for k in range(i, lenl):\n",
    "        mergedList.append(l[k])\n",
    "\n",
    "    for k in range(j, lenr):\n",
    "        mergedList.append(r[k])\n",
    "        \n",
    "    print(f'l = {l}; r = {r}; merged list = {mergedList}')\n",
    "    return mergedList\n",
    "    \n",
    "    \n",
    "    \n",
    "def find_inversions(lis, low, high):\n",
    "#     print(low, high)\n",
    "    if low == high:\n",
    "        return lis[low:low+1]\n",
    "    \n",
    "    mid = low + (high-low)//2\n",
    "    left = find_inversions(lis, low, mid)\n",
    "    right = find_inversions(lis, mid+1, high)\n",
    "    lis = no_of_inversions(left, right)\n",
    "    return lis\n",
    "\n",
    "inversions = 0\n",
    "lis = [2, 3, 9, 2, 9]\n",
    "find_inversions(lis, 0, len(lis))\n",
    "print(f'inversions')\n",
    "inversions"
   ]
  },
  {
   "cell_type": "code",
   "execution_count": 126,
   "metadata": {},
   "outputs": [
    {
     "name": "stdout",
     "output_type": "stream",
     "text": [
      "segments = [(1, 2), (1, 2), (1, 2), (1, 2), (1, 2)]\n",
      "segments sorted by ending = [(1, 2), (1, 2), (1, 2), (1, 2), (1, 2)]\n",
      "segments sorted by starting = [(1, 2), (1, 2), (1, 2), (1, 2), (1, 2)]\n"
     ]
    },
    {
     "data": {
      "text/plain": [
       "[0]"
      ]
     },
     "execution_count": 126,
     "metadata": {},
     "output_type": "execute_result"
    }
   ],
   "source": [
    "def searchEnd(point, segments, low, high):\n",
    "    if low == high:\n",
    "        return low\n",
    "    \n",
    "    mid = low + (high-low)//2\n",
    "    if point > segments[mid][1]:\n",
    "        return searchEnd(point, segments, mid+1, high)\n",
    "    else:\n",
    "        return searchEnd(point, segments, low, mid)\n",
    "    \n",
    "def searchStart(point, segments, low, high):\n",
    "    if low == high:\n",
    "        return low\n",
    "    \n",
    "    mid = low + (high-low)//2\n",
    "    if point > segments[mid][0]:\n",
    "        return searchStart(point, segments, mid+1, high)\n",
    "    else:\n",
    "        return searchStart(point, segments, low, mid)\n",
    "\n",
    "\n",
    "def fast_count_segments(starts, ends, points):\n",
    "    res = []\n",
    "    l = len(starts)\n",
    "    segmentsEnd = [(starts[i], ends[i]) for i in range(l)]\n",
    "    segmentsEnd.sort(key=lambda x: x[1])\n",
    "    for point in points:\n",
    "        print(f'segments = {segmentsEnd}')\n",
    "        startIndex = searchEnd(point, segmentsEnd, 0, l)\n",
    "        segmentsStart = segmentsEnd[startIndex:]\n",
    "        print(f'segments sorted by ending = {segmentsStart}')\n",
    "        segmentsStart.sort(key=lambda x: x[0])\n",
    "        print(f'segments sorted by starting = {segmentsStart}')\n",
    "        endIndex = searchStart(point, segmentsStart, 0, len(segmentsStart))\n",
    "\n",
    "        res.append(endIndex)\n",
    "\n",
    "    return res\n",
    "    \n",
    "    \n",
    "starts = [1, 1, 1, 1, 1]\n",
    "ends =   [2, 2, 2, 2, 2]\n",
    "points = [0]\n",
    "\n",
    "fast_count_segments(starts, ends, points)"
   ]
  },
  {
   "cell_type": "code",
   "execution_count": 143,
   "metadata": {},
   "outputs": [
    {
     "name": "stdout",
     "output_type": "stream",
     "text": [
      "[(3, 'a'), (3, 'b'), (3, 'c'), (4, 'a'), (5, 'b'), (8, 'b'), (10, 'c')]\n"
     ]
    },
    {
     "data": {
      "text/plain": [
       "[1, 1, 1]"
      ]
     },
     "execution_count": 143,
     "metadata": {},
     "output_type": "execute_result"
    }
   ],
   "source": [
    "def fast_count_segments(starts, ends, points):\n",
    "    lis = []; start_count = 0; dic = {} \n",
    "    for i in range(len(starts)):\n",
    "        lis.append((starts[i], 'a'))\n",
    "        lis.append((ends[i], 'c'))\n",
    "        \n",
    "    for i in range(len(points)):\n",
    "        lis.append((points[i], 'b'))\n",
    "                   \n",
    "    lis.sort()\n",
    "#     print(lis)\n",
    "    \n",
    "    for item in lis:\n",
    "        ty = item[1]\n",
    "        if 'a' == ty:\n",
    "            start_count += 1\n",
    "        elif 'b' == ty:\n",
    "            dic[item[0]] = start_count\n",
    "        elif 'c' == ty:\n",
    "            start_count -= 1\n",
    "            \n",
    "    lis = [dic[point] for point in points]\n",
    "    return lis\n",
    "    \n",
    "\n",
    "                   \n",
    "starts = [4, 3]\n",
    "ends =   [10, 3]\n",
    "points = [5, 8, 3]\n",
    "\n",
    "fast_count_segments(starts, ends, points)"
   ]
  },
  {
   "cell_type": "code",
   "execution_count": 54,
   "metadata": {},
   "outputs": [
    {
     "name": "stdout",
     "output_type": "stream",
     "text": [
      "[0, 0, 0, 0, 0]\n",
      "[0, 0, 0, 0, 0]\n",
      "[0, 0, 0, 0, 0]\n",
      "[0, 0, 0, 0, 0]\n"
     ]
    },
    {
     "data": {
      "text/plain": [
       "2"
      ]
     },
     "execution_count": 54,
     "metadata": {},
     "output_type": "execute_result"
    }
   ],
   "source": [
    "def lcs2(a, b):\n",
    "    lenA = len(a); lenB = len(b)\n",
    "    grid = [[0 for j in range(lenB+1)] for i in range(lenA+1)]\n",
    "    tprint(grid)\n",
    "    for i in range(1, lenA+1):\n",
    "        for j in range(1, lenB+1):\n",
    "            if a[i-1] == b[j-1]:\n",
    "                grid[i][j] = grid[i-1][j-1]+1 \n",
    "            else:\n",
    "                grid[i][j] = max(grid[i-1][j], grid[i][j-1])\n",
    "\n",
    "    return grid[-1][-1]\n",
    "\n",
    "lcs2( [2, 3, 9], [2, 9, 7, 8])"
   ]
  }
 ],
 "metadata": {
  "kernelspec": {
   "display_name": "Python 3",
   "language": "python",
   "name": "python3"
  },
  "language_info": {
   "codemirror_mode": {
    "name": "ipython",
    "version": 3
   },
   "file_extension": ".py",
   "mimetype": "text/x-python",
   "name": "python",
   "nbconvert_exporter": "python",
   "pygments_lexer": "ipython3",
   "version": "3.7.4"
  }
 },
 "nbformat": 4,
 "nbformat_minor": 2
}
