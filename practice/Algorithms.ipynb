{
 "cells": [
  {
   "cell_type": "code",
   "execution_count": 47,
   "metadata": {},
   "outputs": [],
   "source": [
    "# %load_ext memory_profiler\n",
    "%reload_ext memory_profiler\n",
    "import sys\n",
    "sys.getrecursionlimit = 12000"
   ]
  },
  {
   "cell_type": "code",
   "execution_count": 61,
   "metadata": {},
   "outputs": [
    {
     "name": "stdout",
     "output_type": "stream",
     "text": [
      "peak memory: 45.14 MiB, increment: 0.00 MiB\n",
      "peak memory: 45.14 MiB, increment: 0.00 MiB\n",
      "peak memory: 45.14 MiB, increment: 0.00 MiB\n",
      "peak memory: 45.14 MiB, increment: 0.00 MiB\n",
      "peak memory: 45.14 MiB, increment: 0.00 MiB\n",
      "peak memory: 45.14 MiB, increment: 0.00 MiB\n",
      "peak memory: 45.14 MiB, increment: 0.00 MiB\n",
      "peak memory: 45.14 MiB, increment: 0.00 MiB\n",
      "221 ms ± 2.88 ms per loop (mean ± std. dev. of 7 runs, 1 loop each)\n"
     ]
    }
   ],
   "source": [
    "%%timeit \n",
    "%memit\n",
    "lis = [0, 1]\n",
    "n = 1\n",
    "while n<1000:\n",
    "    lis.append(lis[-1]+lis[-2])\n",
    "    n=n+1"
   ]
  },
  {
   "cell_type": "code",
   "execution_count": 58,
   "metadata": {},
   "outputs": [
    {
     "name": "stdout",
     "output_type": "stream",
     "text": [
      "CPU times: user 61 µs, sys: 36 µs, total: 97 µs\n",
      "Wall time: 101 µs\n"
     ]
    }
   ],
   "source": [
    "%%time\n",
    "c = 1\n",
    "lis = []\n",
    "def fibb(f, n):\n",
    "    global c\n",
    "    if c==1000:\n",
    "        return\n",
    "    c=c+1\n",
    "    f = n\n",
    "    n = f+n\n",
    "#     lis.append(n)\n",
    "    fibb(f, n)"
   ]
  },
  {
   "cell_type": "code",
   "execution_count": 60,
   "metadata": {},
   "outputs": [
    {
     "name": "stdout",
     "output_type": "stream",
     "text": [
      "peak memory: 45.14 MiB, increment: 0.00 MiB\n",
      "peak memory: 45.14 MiB, increment: 0.00 MiB\n",
      "peak memory: 45.14 MiB, increment: 0.00 MiB\n",
      "peak memory: 45.14 MiB, increment: 0.00 MiB\n",
      "peak memory: 45.14 MiB, increment: 0.00 MiB\n",
      "peak memory: 45.14 MiB, increment: 0.00 MiB\n",
      "peak memory: 45.14 MiB, increment: 0.00 MiB\n",
      "peak memory: 45.14 MiB, increment: 0.00 MiB\n",
      "223 ms ± 2.57 ms per loop (mean ± std. dev. of 7 runs, 1 loop each)\n"
     ]
    }
   ],
   "source": [
    "%%timeit \n",
    "%memit\n",
    "fibb(0,1)"
   ]
  }
 ],
 "metadata": {
  "kernelspec": {
   "display_name": "Python 3",
   "language": "python",
   "name": "python3"
  },
  "language_info": {
   "codemirror_mode": {
    "name": "ipython",
    "version": 3
   },
   "file_extension": ".py",
   "mimetype": "text/x-python",
   "name": "python",
   "nbconvert_exporter": "python",
   "pygments_lexer": "ipython3",
   "version": "3.7.2"
  }
 },
 "nbformat": 4,
 "nbformat_minor": 2
}
