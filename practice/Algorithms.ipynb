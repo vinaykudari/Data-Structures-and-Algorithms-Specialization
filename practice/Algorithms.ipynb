{
 "cells": [
  {
   "cell_type": "markdown",
   "metadata": {},
   "source": [
    "Requirements"
   ]
  },
  {
   "cell_type": "code",
   "execution_count": null,
   "metadata": {},
   "outputs": [],
   "source": [
    "!pip install memory-profiler"
   ]
  },
  {
   "cell_type": "code",
   "execution_count": 5,
   "metadata": {},
   "outputs": [],
   "source": [
    "# %load_ext memory_profiler\n",
    "%reload_ext memory_profiler\n",
    "import sys"
   ]
  },
  {
   "cell_type": "markdown",
   "metadata": {},
   "source": [
    "# fibonacci"
   ]
  },
  {
   "cell_type": "code",
   "execution_count": 45,
   "metadata": {},
   "outputs": [
    {
     "data": {
      "text/plain": [
       "[2, 3, 4]"
      ]
     },
     "execution_count": 45,
     "metadata": {},
     "output_type": "execute_result"
    }
   ],
   "source": [
    "list(range(2,5))"
   ]
  },
  {
   "cell_type": "code",
   "execution_count": 93,
   "metadata": {},
   "outputs": [],
   "source": [
    "# %%timeit \n",
    "# %memit\n",
    "def fibb(n):\n",
    "    if n<=1:\n",
    "        return lis[n]\n",
    "    else:\n",
    "        for i in range(1, n):\n",
    "            lis.append(lis[i-1] + lis[i])\n",
    "        return lis[n]"
   ]
  },
  {
   "cell_type": "code",
   "execution_count": 95,
   "metadata": {},
   "outputs": [
    {
     "data": {
      "text/plain": [
       "102334155"
      ]
     },
     "execution_count": 95,
     "metadata": {},
     "output_type": "execute_result"
    }
   ],
   "source": [
    "lis = [0, 1]\n",
    "fibb(40)"
   ]
  },
  {
   "cell_type": "code",
   "execution_count": 14,
   "metadata": {},
   "outputs": [
    {
     "name": "stdout",
     "output_type": "stream",
     "text": [
      "Wall time: 0 ns\n"
     ]
    }
   ],
   "source": [
    "%%time\n",
    "def fibb(n):\n",
    "    if n <= 1:\n",
    "        return n\n",
    "    else:\n",
    "        return fibb(n-1) + fibb(n-2)"
   ]
  },
  {
   "cell_type": "code",
   "execution_count": 32,
   "metadata": {},
   "outputs": [],
   "source": [
    "fib = fibb(20)"
   ]
  },
  {
   "cell_type": "markdown",
   "metadata": {},
   "source": [
    "# GCD"
   ]
  },
  {
   "cell_type": "code",
   "execution_count": 357,
   "metadata": {},
   "outputs": [],
   "source": [
    "def gcd(a, b):\n",
    "    if b>a:\n",
    "        a = a+b\n",
    "        b = a-b\n",
    "        a = a-b\n",
    "    elif a==b:\n",
    "        return a\n",
    "        \n",
    "    while b!=0:\n",
    "        r = a%b\n",
    "        a = b\n",
    "        b = r\n",
    "        \n",
    "    return a"
   ]
  },
  {
   "cell_type": "code",
   "execution_count": 363,
   "metadata": {},
   "outputs": [],
   "source": [
    "def lcm(a, b):\n",
    "    hcf = gcd(a,b)\n",
    "    return (a * b)/hcf"
   ]
  },
  {
   "cell_type": "code",
   "execution_count": 360,
   "metadata": {},
   "outputs": [
    {
     "data": {
      "text/plain": [
       "2"
      ]
     },
     "execution_count": 360,
     "metadata": {},
     "output_type": "execute_result"
    }
   ],
   "source": [
    "gcd(2,12)"
   ]
  },
  {
   "cell_type": "code",
   "execution_count": 364,
   "metadata": {},
   "outputs": [
    {
     "data": {
      "text/plain": [
       "100.0"
      ]
     },
     "execution_count": 364,
     "metadata": {},
     "output_type": "execute_result"
    }
   ],
   "source": [
    "lcm(10, 100)"
   ]
  },
  {
   "cell_type": "code",
   "execution_count": 365,
   "metadata": {},
   "outputs": [],
   "source": [
    "#Doubt\n",
    "def rec(name):\n",
    "    if len(name)==1:\n",
    "        return \"hello\"\n",
    "    rec(name[:-1])"
   ]
  },
  {
   "cell_type": "code",
   "execution_count": 180,
   "metadata": {},
   "outputs": [],
   "source": [
    "def fib(m):\n",
    "    lis = [0,1]\n",
    "    for i in range(1, m):\n",
    "        lis.append((lis[i]+lis[i-1]))\n",
    "    return lis"
   ]
  },
  {
   "cell_type": "code",
   "execution_count": 176,
   "metadata": {},
   "outputs": [],
   "source": [
    "def fib_rep(n, m):\n",
    "    lis = [0, 1]\n",
    "    count, i = 0, 2\n",
    "    flag = True\n",
    "    while flag:\n",
    "        lis.append((lis[-1] + lis[-2])%m)\n",
    "        if lis[-1] == 0 and lis[-2] == 1:\n",
    "            count = count + 1\n",
    "        if count == 1:\n",
    "            flag = False\n",
    "        i = i+1\n",
    "    return lis[n % (i-1)]"
   ]
  },
  {
   "cell_type": "code",
   "execution_count": 230,
   "metadata": {},
   "outputs": [],
   "source": [
    "def fib_sum_last(m):\n",
    "    s=1\n",
    "    if m==0:\n",
    "        return 0\n",
    "    a = 0\n",
    "    b = 1\n",
    "    for i in range(1, m):\n",
    "        temp = b%10\n",
    "        b = (a + b%10)\n",
    "        a = temp\n",
    "        s = (s + b)%10\n",
    "    return s"
   ]
  },
  {
   "cell_type": "code",
   "execution_count": 240,
   "metadata": {},
   "outputs": [
    {
     "data": {
      "text/plain": [
       "[0,\n",
       " 1,\n",
       " 2,\n",
       " 4,\n",
       " 7,\n",
       " 2,\n",
       " 0,\n",
       " 3,\n",
       " 4,\n",
       " 8,\n",
       " 3,\n",
       " 2,\n",
       " 6,\n",
       " 9,\n",
       " 6,\n",
       " 6,\n",
       " 3,\n",
       " 0,\n",
       " 4,\n",
       " 5,\n",
       " 0,\n",
       " 6,\n",
       " 7,\n",
       " 4,\n",
       " 2,\n",
       " 7,\n",
       " 0,\n",
       " 8,\n",
       " 9,\n",
       " 8,\n",
       " 8,\n",
       " 7,\n",
       " 6,\n",
       " 4,\n",
       " 1,\n",
       " 6,\n",
       " 8,\n",
       " 5,\n",
       " 4,\n",
       " 0,\n",
       " 5,\n",
       " 6,\n",
       " 2,\n",
       " 9,\n",
       " 2,\n",
       " 2,\n",
       " 5,\n",
       " 8,\n",
       " 4,\n",
       " 3,\n",
       " 8,\n",
       " 2,\n",
       " 1,\n",
       " 4,\n",
       " 6,\n",
       " 1,\n",
       " 8,\n",
       " 0,\n",
       " 9,\n",
       " 0,\n",
       " 0,\n",
       " 1,\n",
       " 2,\n",
       " 4,\n",
       " 7,\n",
       " 2,\n",
       " 0,\n",
       " 3,\n",
       " 4,\n",
       " 8,\n",
       " 3,\n",
       " 2,\n",
       " 6,\n",
       " 9,\n",
       " 6,\n",
       " 6,\n",
       " 3,\n",
       " 0,\n",
       " 4,\n",
       " 5,\n",
       " 0,\n",
       " 6,\n",
       " 7,\n",
       " 4,\n",
       " 2,\n",
       " 7,\n",
       " 0,\n",
       " 8,\n",
       " 9,\n",
       " 8,\n",
       " 8,\n",
       " 7,\n",
       " 6,\n",
       " 4,\n",
       " 1,\n",
       " 6,\n",
       " 8,\n",
       " 5,\n",
       " 4,\n",
       " 0]"
      ]
     },
     "execution_count": 240,
     "metadata": {},
     "output_type": "execute_result"
    }
   ],
   "source": [
    "# %%timeit\n",
    "[fib_sum_last(i) for i in range(100)]"
   ]
  }
 ],
 "metadata": {
  "kernelspec": {
   "display_name": "Python 3",
   "language": "python",
   "name": "python3"
  },
  "language_info": {
   "codemirror_mode": {
    "name": "ipython",
    "version": 3
   },
   "file_extension": ".py",
   "mimetype": "text/x-python",
   "name": "python",
   "nbconvert_exporter": "python",
   "pygments_lexer": "ipython3",
   "version": "3.6.5"
  }
 },
 "nbformat": 4,
 "nbformat_minor": 2
}
